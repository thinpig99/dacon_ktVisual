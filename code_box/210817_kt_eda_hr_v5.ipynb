{
 "cells": [
  {
   "cell_type": "markdown",
   "id": "daf3e818",
   "metadata": {},
   "source": [
    "## 3. 배후지: 상권이 매력적인가?\n",
    "**배경**:\n",
    "> 1인가구 증가에 따라 배달수요가 크게 확산되었으며 소비 만족도 극대화를 위해 지출을 아끼지 않는 패턴을 보여주고 있습니다.  \n",
    "\n",
    "**목적**: \n",
    "> 1) 서울시 자치구별 1인 가구의 비율을 살펴보고 배달건수와 비교해보자  \n",
    "\n",
    "**활용데이터**: \n",
    "> \"2020년도 서울시 1인가구 비율\", \"\""
   ]
  },
  {
   "cell_type": "markdown",
   "id": "74ac7b32",
   "metadata": {},
   "source": [
    " "
   ]
  },
  {
   "cell_type": "markdown",
   "id": "257dbb78",
   "metadata": {
    "tags": []
   },
   "source": [
    "### 00. Package Load"
   ]
  },
  {
   "cell_type": "code",
   "execution_count": 1,
   "id": "29dae648",
   "metadata": {},
   "outputs": [],
   "source": [
    "import pandas as pd\n",
    "import numpy as np\n",
    "import os\n",
    "import matplotlib.pyplot as plt\n",
    "%matplotlib inline\n",
    "plt.rcParams['font.family'] = 'AppleGothic'\n",
    "\n",
    "import warnings\n",
    "warnings.filterwarnings(\"ignore\")\n",
    "import time\n",
    "\n",
    "import seaborn as sns"
   ]
  },
  {
   "cell_type": "markdown",
   "id": "126f4ec3",
   "metadata": {},
   "source": [
    " "
   ]
  },
  {
   "cell_type": "markdown",
   "id": "8ecdaa05",
   "metadata": {},
   "source": [
    "### 01. Data Path"
   ]
  },
  {
   "cell_type": "code",
   "execution_count": 2,
   "id": "ea0cc27d",
   "metadata": {},
   "outputs": [],
   "source": [
    "kt_data_path = r'/Users/lion_oh/Desktop/hr/project/경진대회/교통데이터 공모전/code/dataset/kt_dataset/'\n",
    "covid19_path = r'/Users/lion_oh/Desktop/hr/project/경진대회/교통데이터 공모전/code/dataset/covid_19_dataset/'\n",
    "pop_path = r'/Users/lion_oh/Desktop/hr/project/경진대회/교통데이터 공모전/code/dataset/pop_dataset/'"
   ]
  },
  {
   "cell_type": "code",
   "execution_count": 3,
   "id": "7edc6c51",
   "metadata": {
    "tags": []
   },
   "outputs": [
    {
     "data": {
      "text/plain": [
       "['서울시_직장인구.csv',\n",
       " 'StartupOrClosing_Shop.csv',\n",
       " '서울시_동별_1인가구.txt',\n",
       " 'dlvr_call.csv',\n",
       " 'StartupOrClosing_Region.csv',\n",
       " '전체 데이터 설명.hwp',\n",
       " 'popl.csv']"
      ]
     },
     "metadata": {},
     "output_type": "display_data"
    },
    {
     "data": {
      "text/plain": [
       "['SeoulFloating.csv',\n",
       " 'TimeAge.csv',\n",
       " 'SearchTrend.csv',\n",
       " 'TimeProvince.csv',\n",
       " 'Weather.csv',\n",
       " 'PatientInfo.csv',\n",
       " 'Region.csv',\n",
       " 'TimeGender.csv',\n",
       " 'Policy.csv',\n",
       " 'Case.csv',\n",
       " 'Time.csv']"
      ]
     },
     "metadata": {},
     "output_type": "display_data"
    },
    {
     "data": {
      "text/plain": [
       "['2021_연령별 인구현황_1_6.csv',\n",
       " '.DS_Store',\n",
       " '주민등록 인구 및 세대현황.csv',\n",
       " '2020_연령별 인구현황_1_6.csv',\n",
       " '서울시_직장인구.csv',\n",
       " 'pop_table.csv',\n",
       " '서울시_동별_1인가구.txt',\n",
       " '2020_서울시_1인가구비율.csv',\n",
       " '2020_연령별 인구현황_7_12.csv',\n",
       " '2021_연령별 인구현황_7.csv',\n",
       " 'pop_2.csv',\n",
       " 'pop_MZ.csv',\n",
       " 'popl.csv',\n",
       " 'pop_age.csv']"
      ]
     },
     "metadata": {},
     "output_type": "display_data"
    }
   ],
   "source": [
    "kt_file_list = os.listdir(kt_data_path)\n",
    "display(kt_file_list)\n",
    "\n",
    "covid_file_list = os.listdir(covid19_path)\n",
    "display(covid_file_list)\n",
    "\n",
    "pop_file_list = os.listdir(pop_path)\n",
    "display(pop_file_list)"
   ]
  },
  {
   "cell_type": "markdown",
   "id": "d7c8cbc8",
   "metadata": {},
   "source": [
    " "
   ]
  },
  {
   "cell_type": "markdown",
   "id": "4e5ccaea",
   "metadata": {},
   "source": [
    "### 02. Data Load"
   ]
  },
  {
   "cell_type": "markdown",
   "id": "ec1e5cb4",
   "metadata": {
    "tags": []
   },
   "source": [
    "#### 서울시 1인가구 비율 데이터\n",
    "> - 파일명: 2020_서울시_1인가구비율.csv  \n",
    "> - 출처: 통계청  \n",
    "> - 설명: 서울시 자치구별 1인가구비율, 1인가구 수, 일반가구 수 데이터. (1인가구비율 = 1인가구 수 / 일반가구 수 * 100)  \n",
    "> - 시기: 2020년도"
   ]
  },
  {
   "cell_type": "code",
   "execution_count": 4,
   "id": "c9734a33",
   "metadata": {},
   "outputs": [
    {
     "data": {
      "text/html": [
       "<div>\n",
       "<style scoped>\n",
       "    .dataframe tbody tr th:only-of-type {\n",
       "        vertical-align: middle;\n",
       "    }\n",
       "\n",
       "    .dataframe tbody tr th {\n",
       "        vertical-align: top;\n",
       "    }\n",
       "\n",
       "    .dataframe thead th {\n",
       "        text-align: right;\n",
       "    }\n",
       "</style>\n",
       "<table border=\"1\" class=\"dataframe\">\n",
       "  <thead>\n",
       "    <tr style=\"text-align: right;\">\n",
       "      <th></th>\n",
       "      <th>자치구</th>\n",
       "      <th>2020_1인가구_비율</th>\n",
       "      <th>2020_1인가구</th>\n",
       "      <th>2020_일반가구</th>\n",
       "    </tr>\n",
       "  </thead>\n",
       "  <tbody>\n",
       "    <tr>\n",
       "      <th>3</th>\n",
       "      <td>종로구</td>\n",
       "      <td>41.0</td>\n",
       "      <td>25983</td>\n",
       "      <td>63414</td>\n",
       "    </tr>\n",
       "    <tr>\n",
       "      <th>4</th>\n",
       "      <td>중구</td>\n",
       "      <td>41.4</td>\n",
       "      <td>22818</td>\n",
       "      <td>55093</td>\n",
       "    </tr>\n",
       "    <tr>\n",
       "      <th>5</th>\n",
       "      <td>용산구</td>\n",
       "      <td>38.5</td>\n",
       "      <td>36881</td>\n",
       "      <td>95714</td>\n",
       "    </tr>\n",
       "    <tr>\n",
       "      <th>6</th>\n",
       "      <td>성동구</td>\n",
       "      <td>34.9</td>\n",
       "      <td>42585</td>\n",
       "      <td>122186</td>\n",
       "    </tr>\n",
       "    <tr>\n",
       "      <th>7</th>\n",
       "      <td>광진구</td>\n",
       "      <td>41.0</td>\n",
       "      <td>62301</td>\n",
       "      <td>152090</td>\n",
       "    </tr>\n",
       "  </tbody>\n",
       "</table>\n",
       "</div>"
      ],
      "text/plain": [
       "   자치구 2020_1인가구_비율 2020_1인가구 2020_일반가구\n",
       "3  종로구         41.0     25983     63414\n",
       "4   중구         41.4     22818     55093\n",
       "5  용산구         38.5     36881     95714\n",
       "6  성동구         34.9     42585    122186\n",
       "7  광진구         41.0     62301    152090"
      ]
     },
     "execution_count": 4,
     "metadata": {},
     "output_type": "execute_result"
    }
   ],
   "source": [
    "pop_one = pd.read_csv(pop_path + '2020_서울시_1인가구비율.csv', encoding = 'cp949', names = ['자치구', '2020_1인가구_비율', '2020_1인가구', '2020_일반가구']).iloc[3:]\n",
    "pop_one.head()"
   ]
  },
  {
   "cell_type": "markdown",
   "id": "08e32ca2",
   "metadata": {},
   "source": [
    "* 데이터 타입을 변환해줄 필요가 보입니다"
   ]
  },
  {
   "cell_type": "code",
   "execution_count": 5,
   "id": "7a3c3c6d",
   "metadata": {},
   "outputs": [
    {
     "name": "stdout",
     "output_type": "stream",
     "text": [
      "<class 'pandas.core.frame.DataFrame'>\n",
      "RangeIndex: 25 entries, 3 to 27\n",
      "Data columns (total 4 columns):\n",
      " #   Column        Non-Null Count  Dtype \n",
      "---  ------        --------------  ----- \n",
      " 0   자치구           25 non-null     object\n",
      " 1   2020_1인가구_비율  25 non-null     object\n",
      " 2   2020_1인가구     25 non-null     object\n",
      " 3   2020_일반가구     25 non-null     object\n",
      "dtypes: object(4)\n",
      "memory usage: 932.0+ bytes\n"
     ]
    }
   ],
   "source": [
    "pop_one.info()"
   ]
  },
  {
   "cell_type": "markdown",
   "id": "396c87f5",
   "metadata": {},
   "source": [
    "  "
   ]
  },
  {
   "cell_type": "markdown",
   "id": "b4389327",
   "metadata": {},
   "source": [
    "#### 서울시 자치구별 주민등록 인구 및 세대현황\n",
    "> - 파일명: 주민등록 인구 및 세대현황.csv  \n",
    "> - 출처: 통계청  \n",
    "> - 설명: 서울시 자치구 월별 **주민등록인구 수**, **세대 수**, **세대당 인구 수**, **남/여 인구 수**. \n",
    "> - 시기: 2020년도"
   ]
  },
  {
   "cell_type": "code",
   "execution_count": 6,
   "id": "6419b898",
   "metadata": {},
   "outputs": [
    {
     "data": {
      "text/html": [
       "<div>\n",
       "<style scoped>\n",
       "    .dataframe tbody tr th:only-of-type {\n",
       "        vertical-align: middle;\n",
       "    }\n",
       "\n",
       "    .dataframe tbody tr th {\n",
       "        vertical-align: top;\n",
       "    }\n",
       "\n",
       "    .dataframe thead th {\n",
       "        text-align: right;\n",
       "    }\n",
       "</style>\n",
       "<table border=\"1\" class=\"dataframe\">\n",
       "  <thead>\n",
       "    <tr style=\"text-align: right;\">\n",
       "      <th></th>\n",
       "      <th>행정구역</th>\n",
       "      <th>자치구</th>\n",
       "      <th>2020년01월_총인구수</th>\n",
       "      <th>2020년01월_세대수</th>\n",
       "      <th>2020년01월_세대당 인구</th>\n",
       "      <th>2020년01월_남자 인구수</th>\n",
       "      <th>2020년01월_여자 인구수</th>\n",
       "      <th>2020년01월_남여 비율</th>\n",
       "      <th>2020년02월_총인구수</th>\n",
       "      <th>2020년02월_세대수</th>\n",
       "      <th>...</th>\n",
       "      <th>2021년06월_세대당 인구</th>\n",
       "      <th>2021년06월_남자 인구수</th>\n",
       "      <th>2021년06월_여자 인구수</th>\n",
       "      <th>2021년06월_남여 비율</th>\n",
       "      <th>2021년07월_총인구수</th>\n",
       "      <th>2021년07월_세대수</th>\n",
       "      <th>2021년07월_세대당 인구</th>\n",
       "      <th>2021년07월_남자 인구수</th>\n",
       "      <th>2021년07월_여자 인구수</th>\n",
       "      <th>2021년07월_남여 비율</th>\n",
       "    </tr>\n",
       "  </thead>\n",
       "  <tbody>\n",
       "    <tr>\n",
       "      <th>0</th>\n",
       "      <td>서울특별시</td>\n",
       "      <td>종로구</td>\n",
       "      <td>151,215</td>\n",
       "      <td>73,925</td>\n",
       "      <td>2.05</td>\n",
       "      <td>73,688</td>\n",
       "      <td>77,527</td>\n",
       "      <td>0.95</td>\n",
       "      <td>151,309</td>\n",
       "      <td>74,028</td>\n",
       "      <td>...</td>\n",
       "      <td>1.99</td>\n",
       "      <td>70,985</td>\n",
       "      <td>75,044</td>\n",
       "      <td>0.95</td>\n",
       "      <td>145,692</td>\n",
       "      <td>73,453</td>\n",
       "      <td>1.98</td>\n",
       "      <td>70,810</td>\n",
       "      <td>74,882</td>\n",
       "      <td>0.95</td>\n",
       "    </tr>\n",
       "    <tr>\n",
       "      <th>1</th>\n",
       "      <td>서울특별시</td>\n",
       "      <td>중구</td>\n",
       "      <td>126,201</td>\n",
       "      <td>62,814</td>\n",
       "      <td>2.01</td>\n",
       "      <td>61,946</td>\n",
       "      <td>64,255</td>\n",
       "      <td>0.96</td>\n",
       "      <td>126,259</td>\n",
       "      <td>63,016</td>\n",
       "      <td>...</td>\n",
       "      <td>1.96</td>\n",
       "      <td>60,019</td>\n",
       "      <td>62,997</td>\n",
       "      <td>0.95</td>\n",
       "      <td>122,951</td>\n",
       "      <td>63,001</td>\n",
       "      <td>1.95</td>\n",
       "      <td>59,945</td>\n",
       "      <td>63,006</td>\n",
       "      <td>0.95</td>\n",
       "    </tr>\n",
       "    <tr>\n",
       "      <th>2</th>\n",
       "      <td>서울특별시</td>\n",
       "      <td>용산구</td>\n",
       "      <td>229,385</td>\n",
       "      <td>110,457</td>\n",
       "      <td>2.08</td>\n",
       "      <td>110,701</td>\n",
       "      <td>118,684</td>\n",
       "      <td>0.93</td>\n",
       "      <td>229,677</td>\n",
       "      <td>110,770</td>\n",
       "      <td>...</td>\n",
       "      <td>2.03</td>\n",
       "      <td>108,948</td>\n",
       "      <td>117,430</td>\n",
       "      <td>0.93</td>\n",
       "      <td>225,977</td>\n",
       "      <td>111,635</td>\n",
       "      <td>2.02</td>\n",
       "      <td>108,709</td>\n",
       "      <td>117,268</td>\n",
       "      <td>0.93</td>\n",
       "    </tr>\n",
       "    <tr>\n",
       "      <th>3</th>\n",
       "      <td>서울특별시</td>\n",
       "      <td>성동구</td>\n",
       "      <td>300,410</td>\n",
       "      <td>135,732</td>\n",
       "      <td>2.21</td>\n",
       "      <td>147,020</td>\n",
       "      <td>153,390</td>\n",
       "      <td>0.96</td>\n",
       "      <td>299,797</td>\n",
       "      <td>135,797</td>\n",
       "      <td>...</td>\n",
       "      <td>2.15</td>\n",
       "      <td>141,042</td>\n",
       "      <td>148,120</td>\n",
       "      <td>0.95</td>\n",
       "      <td>288,703</td>\n",
       "      <td>134,493</td>\n",
       "      <td>2.15</td>\n",
       "      <td>140,811</td>\n",
       "      <td>147,892</td>\n",
       "      <td>0.95</td>\n",
       "    </tr>\n",
       "    <tr>\n",
       "      <th>4</th>\n",
       "      <td>서울특별시</td>\n",
       "      <td>광진구</td>\n",
       "      <td>351,263</td>\n",
       "      <td>164,730</td>\n",
       "      <td>2.13</td>\n",
       "      <td>170,164</td>\n",
       "      <td>181,099</td>\n",
       "      <td>0.94</td>\n",
       "      <td>351,032</td>\n",
       "      <td>165,100</td>\n",
       "      <td>...</td>\n",
       "      <td>2.05</td>\n",
       "      <td>165,233</td>\n",
       "      <td>177,248</td>\n",
       "      <td>0.93</td>\n",
       "      <td>342,111</td>\n",
       "      <td>167,057</td>\n",
       "      <td>2.05</td>\n",
       "      <td>165,039</td>\n",
       "      <td>177,072</td>\n",
       "      <td>0.93</td>\n",
       "    </tr>\n",
       "  </tbody>\n",
       "</table>\n",
       "<p>5 rows × 116 columns</p>\n",
       "</div>"
      ],
      "text/plain": [
       "    행정구역  자치구 2020년01월_총인구수 2020년01월_세대수  2020년01월_세대당 인구 2020년01월_남자 인구수  \\\n",
       "0  서울특별시  종로구       151,215       73,925             2.05          73,688   \n",
       "1  서울특별시   중구       126,201       62,814             2.01          61,946   \n",
       "2  서울특별시  용산구       229,385      110,457             2.08         110,701   \n",
       "3  서울특별시  성동구       300,410      135,732             2.21         147,020   \n",
       "4  서울특별시  광진구       351,263      164,730             2.13         170,164   \n",
       "\n",
       "  2020년01월_여자 인구수  2020년01월_남여 비율 2020년02월_총인구수 2020년02월_세대수  ...  \\\n",
       "0          77,527            0.95       151,309       74,028  ...   \n",
       "1          64,255            0.96       126,259       63,016  ...   \n",
       "2         118,684            0.93       229,677      110,770  ...   \n",
       "3         153,390            0.96       299,797      135,797  ...   \n",
       "4         181,099            0.94       351,032      165,100  ...   \n",
       "\n",
       "   2021년06월_세대당 인구 2021년06월_남자 인구수 2021년06월_여자 인구수  2021년06월_남여 비율  \\\n",
       "0             1.99          70,985          75,044            0.95   \n",
       "1             1.96          60,019          62,997            0.95   \n",
       "2             2.03         108,948         117,430            0.93   \n",
       "3             2.15         141,042         148,120            0.95   \n",
       "4             2.05         165,233         177,248            0.93   \n",
       "\n",
       "  2021년07월_총인구수 2021년07월_세대수  2021년07월_세대당 인구 2021년07월_남자 인구수 2021년07월_여자 인구수  \\\n",
       "0       145,692       73,453             1.98          70,810          74,882   \n",
       "1       122,951       63,001             1.95          59,945          63,006   \n",
       "2       225,977      111,635             2.02         108,709         117,268   \n",
       "3       288,703      134,493             2.15         140,811         147,892   \n",
       "4       342,111      167,057             2.05         165,039         177,072   \n",
       "\n",
       "   2021년07월_남여 비율  \n",
       "0            0.95  \n",
       "1            0.95  \n",
       "2            0.93  \n",
       "3            0.95  \n",
       "4            0.93  \n",
       "\n",
       "[5 rows x 116 columns]"
      ]
     },
     "execution_count": 6,
     "metadata": {},
     "output_type": "execute_result"
    }
   ],
   "source": [
    "pop_total = pd.read_csv(pop_path + '주민등록 인구 및 세대현황.csv', encoding = 'cp949')\n",
    "pop_total.head()"
   ]
  },
  {
   "cell_type": "markdown",
   "id": "dd6fb855",
   "metadata": {},
   "source": [
    "* 데이터 타입 변환 작업이 필요해 보입니다. "
   ]
  },
  {
   "cell_type": "markdown",
   "id": "bdb91e3f",
   "metadata": {},
   "source": [
    " "
   ]
  },
  {
   "cell_type": "markdown",
   "id": "82badb97",
   "metadata": {
    "tags": []
   },
   "source": [
    "#### 서울시 자치구별 인구 연령대\n",
    "> - 파일명: pop_2.csv  \n",
    "> - 출처: 통계청  \n",
    "> - 설명: 서울시 자치구 **연령대별 총인구 수**   \n",
    "> - 시기: 2018 ~ 2020"
   ]
  },
  {
   "cell_type": "code",
   "execution_count": 7,
   "id": "6a54b826",
   "metadata": {},
   "outputs": [
    {
     "data": {
      "text/html": [
       "<div>\n",
       "<style scoped>\n",
       "    .dataframe tbody tr th:only-of-type {\n",
       "        vertical-align: middle;\n",
       "    }\n",
       "\n",
       "    .dataframe tbody tr th {\n",
       "        vertical-align: top;\n",
       "    }\n",
       "\n",
       "    .dataframe thead th {\n",
       "        text-align: right;\n",
       "    }\n",
       "</style>\n",
       "<table border=\"1\" class=\"dataframe\">\n",
       "  <thead>\n",
       "    <tr style=\"text-align: right;\">\n",
       "      <th></th>\n",
       "      <th>자치구</th>\n",
       "      <th>연령별</th>\n",
       "      <th>2018총인구(명)</th>\n",
       "      <th>2019총인구(명)</th>\n",
       "      <th>2020총인구(명)</th>\n",
       "    </tr>\n",
       "  </thead>\n",
       "  <tbody>\n",
       "    <tr>\n",
       "      <th>0</th>\n",
       "      <td>종로구</td>\n",
       "      <td>0~4세</td>\n",
       "      <td>3870</td>\n",
       "      <td>3565</td>\n",
       "      <td>3130</td>\n",
       "    </tr>\n",
       "    <tr>\n",
       "      <th>1</th>\n",
       "      <td>종로구</td>\n",
       "      <td>5~9세</td>\n",
       "      <td>4468</td>\n",
       "      <td>4372</td>\n",
       "      <td>4217</td>\n",
       "    </tr>\n",
       "    <tr>\n",
       "      <th>2</th>\n",
       "      <td>종로구</td>\n",
       "      <td>10~14세</td>\n",
       "      <td>4863</td>\n",
       "      <td>4740</td>\n",
       "      <td>4721</td>\n",
       "    </tr>\n",
       "    <tr>\n",
       "      <th>3</th>\n",
       "      <td>종로구</td>\n",
       "      <td>15~19세</td>\n",
       "      <td>9887</td>\n",
       "      <td>9015</td>\n",
       "      <td>7656</td>\n",
       "    </tr>\n",
       "    <tr>\n",
       "      <th>4</th>\n",
       "      <td>종로구</td>\n",
       "      <td>20~24세</td>\n",
       "      <td>15995</td>\n",
       "      <td>15242</td>\n",
       "      <td>14111</td>\n",
       "    </tr>\n",
       "  </tbody>\n",
       "</table>\n",
       "</div>"
      ],
      "text/plain": [
       "   자치구     연령별  2018총인구(명)  2019총인구(명)  2020총인구(명)\n",
       "0  종로구    0~4세        3870        3565        3130\n",
       "1  종로구    5~9세        4468        4372        4217\n",
       "2  종로구  10~14세        4863        4740        4721\n",
       "3  종로구  15~19세        9887        9015        7656\n",
       "4  종로구  20~24세       15995       15242       14111"
      ]
     },
     "execution_count": 7,
     "metadata": {},
     "output_type": "execute_result"
    }
   ],
   "source": [
    "pop_age = pd.read_csv(pop_path + 'pop_2.csv', encoding = 'cp949', header = 1, names = ['자치구', '연령별', '2018총인구(명)', '2019총인구(명)', '2020총인구(명)'])\n",
    "pop_age.head()"
   ]
  },
  {
   "cell_type": "markdown",
   "id": "586ca634",
   "metadata": {},
   "source": [
    "* 연령별 카테고리가 세분화 되어 있습니다. 분석에 앞서 이를 묶어주는 작업이 필요해 보입니다"
   ]
  },
  {
   "cell_type": "markdown",
   "id": "193f4715",
   "metadata": {},
   "source": [
    "  "
   ]
  },
  {
   "cell_type": "markdown",
   "id": "66395583",
   "metadata": {
    "tags": []
   },
   "source": [
    "#### 서울시 자치구별 MZ세대와 주택형태\n",
    "> - 파일명: pop_table.csv  \n",
    "> - 출처: 통계청 & 전처리  \n",
    "> - 설명: 서울시 자치구별 **MZ인구 수**, **주택형태 수** \n",
    "> - 시기: 2018 ~ 2020"
   ]
  },
  {
   "cell_type": "code",
   "execution_count": 8,
   "id": "f2b461d0",
   "metadata": {},
   "outputs": [
    {
     "data": {
      "text/html": [
       "<div>\n",
       "<style scoped>\n",
       "    .dataframe tbody tr th:only-of-type {\n",
       "        vertical-align: middle;\n",
       "    }\n",
       "\n",
       "    .dataframe tbody tr th {\n",
       "        vertical-align: top;\n",
       "    }\n",
       "\n",
       "    .dataframe thead th {\n",
       "        text-align: right;\n",
       "    }\n",
       "</style>\n",
       "<table border=\"1\" class=\"dataframe\">\n",
       "  <thead>\n",
       "    <tr style=\"text-align: right;\">\n",
       "      <th></th>\n",
       "      <th>자치구</th>\n",
       "      <th>총인구2018</th>\n",
       "      <th>총인구2019</th>\n",
       "      <th>총인구2020</th>\n",
       "      <th>MZ인구2018</th>\n",
       "      <th>MZ인구2019</th>\n",
       "      <th>MZ인구2020</th>\n",
       "      <th>일인가구2018</th>\n",
       "      <th>일인가구2019</th>\n",
       "      <th>일인가구2020</th>\n",
       "      <th>전체가구2018</th>\n",
       "      <th>전체가구2019</th>\n",
       "      <th>전체가구2020</th>\n",
       "      <th>미니주택2018</th>\n",
       "      <th>미니주택2019</th>\n",
       "      <th>미니주택2020</th>\n",
       "      <th>큰주택2018</th>\n",
       "      <th>큰주택2019</th>\n",
       "      <th>큰주택2020</th>\n",
       "    </tr>\n",
       "  </thead>\n",
       "  <tbody>\n",
       "    <tr>\n",
       "      <th>0</th>\n",
       "      <td>강남구</td>\n",
       "      <td>507775</td>\n",
       "      <td>509152</td>\n",
       "      <td>508085</td>\n",
       "      <td>181422</td>\n",
       "      <td>178256</td>\n",
       "      <td>175052</td>\n",
       "      <td>62727</td>\n",
       "      <td>66073</td>\n",
       "      <td>68999</td>\n",
       "      <td>493298</td>\n",
       "      <td>493492</td>\n",
       "      <td>494125</td>\n",
       "      <td>19656</td>\n",
       "      <td>20442</td>\n",
       "      <td>21598</td>\n",
       "      <td>162356</td>\n",
       "      <td>161455</td>\n",
       "      <td>165040</td>\n",
       "    </tr>\n",
       "    <tr>\n",
       "      <th>1</th>\n",
       "      <td>강동구</td>\n",
       "      <td>414198</td>\n",
       "      <td>415244</td>\n",
       "      <td>444377</td>\n",
       "      <td>140644</td>\n",
       "      <td>138656</td>\n",
       "      <td>147191</td>\n",
       "      <td>42126</td>\n",
       "      <td>45188</td>\n",
       "      <td>50316</td>\n",
       "      <td>402479</td>\n",
       "      <td>403443</td>\n",
       "      <td>432784</td>\n",
       "      <td>17349</td>\n",
       "      <td>17051</td>\n",
       "      <td>17636</td>\n",
       "      <td>111134</td>\n",
       "      <td>111671</td>\n",
       "      <td>126835</td>\n",
       "    </tr>\n",
       "    <tr>\n",
       "      <th>2</th>\n",
       "      <td>강북구</td>\n",
       "      <td>309111</td>\n",
       "      <td>303851</td>\n",
       "      <td>299512</td>\n",
       "      <td>99635</td>\n",
       "      <td>95980</td>\n",
       "      <td>92794</td>\n",
       "      <td>40872</td>\n",
       "      <td>42791</td>\n",
       "      <td>45685</td>\n",
       "      <td>299415</td>\n",
       "      <td>294143</td>\n",
       "      <td>290437</td>\n",
       "      <td>20507</td>\n",
       "      <td>20365</td>\n",
       "      <td>20096</td>\n",
       "      <td>75834</td>\n",
       "      <td>77983</td>\n",
       "      <td>78853</td>\n",
       "    </tr>\n",
       "    <tr>\n",
       "      <th>3</th>\n",
       "      <td>강서구</td>\n",
       "      <td>578503</td>\n",
       "      <td>574057</td>\n",
       "      <td>564816</td>\n",
       "      <td>212416</td>\n",
       "      <td>208603</td>\n",
       "      <td>203577</td>\n",
       "      <td>73011</td>\n",
       "      <td>79371</td>\n",
       "      <td>86172</td>\n",
       "      <td>563772</td>\n",
       "      <td>559359</td>\n",
       "      <td>551415</td>\n",
       "      <td>33420</td>\n",
       "      <td>35689</td>\n",
       "      <td>38396</td>\n",
       "      <td>178677</td>\n",
       "      <td>181947</td>\n",
       "      <td>183987</td>\n",
       "    </tr>\n",
       "    <tr>\n",
       "      <th>4</th>\n",
       "      <td>관악구</td>\n",
       "      <td>510265</td>\n",
       "      <td>507792</td>\n",
       "      <td>502603</td>\n",
       "      <td>220957</td>\n",
       "      <td>220592</td>\n",
       "      <td>219113</td>\n",
       "      <td>112733</td>\n",
       "      <td>119863</td>\n",
       "      <td>129233</td>\n",
       "      <td>475013</td>\n",
       "      <td>472796</td>\n",
       "      <td>470469</td>\n",
       "      <td>38220</td>\n",
       "      <td>38745</td>\n",
       "      <td>38945</td>\n",
       "      <td>101631</td>\n",
       "      <td>103046</td>\n",
       "      <td>104405</td>\n",
       "    </tr>\n",
       "  </tbody>\n",
       "</table>\n",
       "</div>"
      ],
      "text/plain": [
       "   자치구  총인구2018  총인구2019  총인구2020  MZ인구2018  MZ인구2019  MZ인구2020  일인가구2018  \\\n",
       "0  강남구   507775   509152   508085    181422    178256    175052     62727   \n",
       "1  강동구   414198   415244   444377    140644    138656    147191     42126   \n",
       "2  강북구   309111   303851   299512     99635     95980     92794     40872   \n",
       "3  강서구   578503   574057   564816    212416    208603    203577     73011   \n",
       "4  관악구   510265   507792   502603    220957    220592    219113    112733   \n",
       "\n",
       "   일인가구2019  일인가구2020  전체가구2018  전체가구2019  전체가구2020  미니주택2018  미니주택2019  \\\n",
       "0     66073     68999    493298    493492    494125     19656     20442   \n",
       "1     45188     50316    402479    403443    432784     17349     17051   \n",
       "2     42791     45685    299415    294143    290437     20507     20365   \n",
       "3     79371     86172    563772    559359    551415     33420     35689   \n",
       "4    119863    129233    475013    472796    470469     38220     38745   \n",
       "\n",
       "   미니주택2020  큰주택2018  큰주택2019  큰주택2020  \n",
       "0     21598   162356   161455   165040  \n",
       "1     17636   111134   111671   126835  \n",
       "2     20096    75834    77983    78853  \n",
       "3     38396   178677   181947   183987  \n",
       "4     38945   101631   103046   104405  "
      ]
     },
     "execution_count": 8,
     "metadata": {},
     "output_type": "execute_result"
    }
   ],
   "source": [
    "pop_mz = pd.read_csv(pop_path + 'pop_table.csv').rename(columns = {'Unnamed: 0':'자치구'})\n",
    "pop_mz.head()"
   ]
  },
  {
   "cell_type": "markdown",
   "id": "e38f3629",
   "metadata": {},
   "source": [
    "  "
   ]
  },
  {
   "cell_type": "markdown",
   "id": "4bc6f4db",
   "metadata": {},
   "source": [
    "### 03. Data Preprocessing"
   ]
  },
  {
   "cell_type": "markdown",
   "id": "264bddc5",
   "metadata": {
    "tags": []
   },
   "source": [
    "* 시각화를 위해 변수 타입을 알맞게 변환해주자"
   ]
  },
  {
   "cell_type": "code",
   "execution_count": 9,
   "id": "e2a4c823",
   "metadata": {},
   "outputs": [],
   "source": [
    "# 서울시 자치구별 1인가구 비율에서...\n",
    "pop_one['2020_1인가구_비율'] = pop_one['2020_1인가구_비율'].astype(np.float)\n",
    "pop_one['2020_1인가구'] = pop_one['2020_1인가구'].astype(np.float)\n",
    "pop_one['2020_일반가구'] = pop_one['2020_일반가구'].astype(np.float)\n",
    "\n",
    "# 서울시 자치구별 주민등록인구 수 및 세대현황에서...\n",
    "## 자리숫 표시를 위해 사용된 ',' 제거 후 변수타입 변환해주자\n",
    "## 제공받은 배달 데이터가 2020년 6월까지 이므로, 2020년 6월에 조사된 총인구수를 사용합니다.\n",
    "pop_total['2020년06월_총인구수'] = pop_total['2020년06월_총인구수'].apply(lambda x : x.replace(',', \"\")).astype(np.float)\n",
    "pop_total['2020년06월_세대수'] = pop_total['2020년06월_세대수'].apply(lambda x : x.replace(',', \"\")).astype(np.float)\n",
    "pop_total['2020년06월_남자 인구수'] = pop_total['2020년06월_남자 인구수'].apply(lambda x : x.replace(',', \"\")).astype(np.float)\n",
    "pop_total['2020년06월_여자 인구수'] = pop_total['2020년06월_여자 인구수'].apply(lambda x : x.replace(',', \"\")).astype(np.float)"
   ]
  },
  {
   "cell_type": "markdown",
   "id": "1d0e240b",
   "metadata": {},
   "source": [
    "* 연령대 카테고리가 좀 세분화되어 있네요...묶어봅시다!!"
   ]
  },
  {
   "cell_type": "code",
   "execution_count": 10,
   "id": "288e6418",
   "metadata": {},
   "outputs": [],
   "source": [
    "age_g = {\n",
    " '0~4세' : '10세미만',\n",
    " '5~9세' : '10세미만',\n",
    " '10~14세' : '10대',\n",
    " '15~19세' : '10대',\n",
    " '20~24세' : '20대',\n",
    " '25~29세' : '20대',\n",
    " '30~34세' : '30대',\n",
    " '35~39세' : '30대',\n",
    " '40~44세' : '40대',\n",
    " '45~49세' : '40대',\n",
    " '50~54세' : '50대',\n",
    " '55~59세' : '50대',\n",
    " '60~64세' : '60대',\n",
    " '65~69세' : '60대',\n",
    " '70~74세' : '70세 이상',\n",
    " '75~79세' : '70세 이상',\n",
    " '80~84세' : '70세 이상',\n",
    " '85~89세' : '70세 이상',\n",
    " '90~94세' : '70세 이상',\n",
    " '95~99세' : '70세 이상'}\n",
    "\n",
    "def _get_ageg(age):\n",
    "    '''\n",
    "        연령별 카테고리를 연령대 군집하는 함수 정의\n",
    "        age: 연령별, pop: 2020총인구(명)\n",
    "    '''\n",
    "    return age_g[age]\n",
    "\n",
    "def _get_ratio(region, pop):\n",
    "    '''\n",
    "        자치구별 연령대 비율 함수 정의\n",
    "        region: 자치구, pop: 인구 수\n",
    "    '''\n",
    "    global pop_age_region\n",
    "    \n",
    "    return round(pop / (pop_age_region[pop_age_region['자치구'] == region]['2020총인구(명)'].values[0]) * 100,1)"
   ]
  },
  {
   "cell_type": "code",
   "execution_count": 11,
   "id": "bece10c7",
   "metadata": {},
   "outputs": [
    {
     "data": {
      "text/html": [
       "<div>\n",
       "<style scoped>\n",
       "    .dataframe tbody tr th:only-of-type {\n",
       "        vertical-align: middle;\n",
       "    }\n",
       "\n",
       "    .dataframe tbody tr th {\n",
       "        vertical-align: top;\n",
       "    }\n",
       "\n",
       "    .dataframe thead th {\n",
       "        text-align: right;\n",
       "    }\n",
       "</style>\n",
       "<table border=\"1\" class=\"dataframe\">\n",
       "  <thead>\n",
       "    <tr style=\"text-align: right;\">\n",
       "      <th></th>\n",
       "      <th>자치구</th>\n",
       "      <th>age_g</th>\n",
       "      <th>2020총인구(명)</th>\n",
       "      <th>연령대비율(%)</th>\n",
       "    </tr>\n",
       "  </thead>\n",
       "  <tbody>\n",
       "    <tr>\n",
       "      <th>0</th>\n",
       "      <td>강남구</td>\n",
       "      <td>10대</td>\n",
       "      <td>54422</td>\n",
       "      <td>10.7</td>\n",
       "    </tr>\n",
       "    <tr>\n",
       "      <th>1</th>\n",
       "      <td>강남구</td>\n",
       "      <td>10세미만</td>\n",
       "      <td>34776</td>\n",
       "      <td>6.8</td>\n",
       "    </tr>\n",
       "    <tr>\n",
       "      <th>2</th>\n",
       "      <td>강남구</td>\n",
       "      <td>20대</td>\n",
       "      <td>69289</td>\n",
       "      <td>13.6</td>\n",
       "    </tr>\n",
       "    <tr>\n",
       "      <th>3</th>\n",
       "      <td>강남구</td>\n",
       "      <td>30대</td>\n",
       "      <td>78072</td>\n",
       "      <td>15.4</td>\n",
       "    </tr>\n",
       "    <tr>\n",
       "      <th>4</th>\n",
       "      <td>강남구</td>\n",
       "      <td>40대</td>\n",
       "      <td>92555</td>\n",
       "      <td>18.2</td>\n",
       "    </tr>\n",
       "    <tr>\n",
       "      <th>...</th>\n",
       "      <td>...</td>\n",
       "      <td>...</td>\n",
       "      <td>...</td>\n",
       "      <td>...</td>\n",
       "    </tr>\n",
       "    <tr>\n",
       "      <th>195</th>\n",
       "      <td>중랑구</td>\n",
       "      <td>30대</td>\n",
       "      <td>57788</td>\n",
       "      <td>15.0</td>\n",
       "    </tr>\n",
       "    <tr>\n",
       "      <th>196</th>\n",
       "      <td>중랑구</td>\n",
       "      <td>40대</td>\n",
       "      <td>56074</td>\n",
       "      <td>14.5</td>\n",
       "    </tr>\n",
       "    <tr>\n",
       "      <th>197</th>\n",
       "      <td>중랑구</td>\n",
       "      <td>50대</td>\n",
       "      <td>67548</td>\n",
       "      <td>17.5</td>\n",
       "    </tr>\n",
       "    <tr>\n",
       "      <th>198</th>\n",
       "      <td>중랑구</td>\n",
       "      <td>60대</td>\n",
       "      <td>56538</td>\n",
       "      <td>14.7</td>\n",
       "    </tr>\n",
       "    <tr>\n",
       "      <th>199</th>\n",
       "      <td>중랑구</td>\n",
       "      <td>70세 이상</td>\n",
       "      <td>42779</td>\n",
       "      <td>11.1</td>\n",
       "    </tr>\n",
       "  </tbody>\n",
       "</table>\n",
       "<p>200 rows × 4 columns</p>\n",
       "</div>"
      ],
      "text/plain": [
       "     자치구   age_g  2020총인구(명)  연령대비율(%)\n",
       "0    강남구     10대       54422      10.7\n",
       "1    강남구   10세미만       34776       6.8\n",
       "2    강남구     20대       69289      13.6\n",
       "3    강남구     30대       78072      15.4\n",
       "4    강남구     40대       92555      18.2\n",
       "..   ...     ...         ...       ...\n",
       "195  중랑구     30대       57788      15.0\n",
       "196  중랑구     40대       56074      14.5\n",
       "197  중랑구     50대       67548      17.5\n",
       "198  중랑구     60대       56538      14.7\n",
       "199  중랑구  70세 이상       42779      11.1\n",
       "\n",
       "[200 rows x 4 columns]"
      ]
     },
     "execution_count": 11,
     "metadata": {},
     "output_type": "execute_result"
    }
   ],
   "source": [
    "# 우선 연령대를 다시 라벨링 합니다.\n",
    "pop_age['age_g'] = pop_age.apply(lambda x: _get_ageg(x['연령별']), axis = 1)\n",
    "\n",
    "# 그리고 라벨링된 연령대와 자치구 기준으로 집계하여 자치구 및 연령대별 2020총인구를 구하고..\n",
    "pop_age1 = pop_age.groupby(['자치구','age_g']).agg({'2020총인구(명)': np.sum}).reset_index()\n",
    "\n",
    "# 각 연령대별 인구비율을 구하기위해 자치구별 2020총인구 수를 만들어 놓고..\n",
    "pop_age_region = pop_age1.groupby('자치구').agg({'2020총인구(명)':np.sum}).reset_index()\n",
    "\n",
    "# 최종적으로 인구비율 변수를 만들어줍니다.\n",
    "pop_age1['연령대비율(%)'] = pop_age1.apply(lambda x: _get_ratio(x['자치구'], x['2020총인구(명)']), axis = 1)\\\n",
    "\n",
    "pop_age1"
   ]
  },
  {
   "cell_type": "markdown",
   "id": "b055bd4b",
   "metadata": {},
   "source": [
    "* 각 자치구별로 총인구 수가 다르기 때문에 비율로 비교하는게 좋을 것 같아요."
   ]
  },
  {
   "cell_type": "code",
   "execution_count": 12,
   "id": "4173daf4",
   "metadata": {},
   "outputs": [
    {
     "data": {
      "text/html": [
       "<div>\n",
       "<style scoped>\n",
       "    .dataframe tbody tr th:only-of-type {\n",
       "        vertical-align: middle;\n",
       "    }\n",
       "\n",
       "    .dataframe tbody tr th {\n",
       "        vertical-align: top;\n",
       "    }\n",
       "\n",
       "    .dataframe thead th {\n",
       "        text-align: right;\n",
       "    }\n",
       "</style>\n",
       "<table border=\"1\" class=\"dataframe\">\n",
       "  <thead>\n",
       "    <tr style=\"text-align: right;\">\n",
       "      <th></th>\n",
       "      <th>행정구역</th>\n",
       "      <th>자치구</th>\n",
       "      <th>2020년01월_총인구수</th>\n",
       "      <th>2020년01월_세대수</th>\n",
       "      <th>2020년01월_세대당 인구</th>\n",
       "      <th>2020년01월_남자 인구수</th>\n",
       "      <th>2020년01월_여자 인구수</th>\n",
       "      <th>2020년01월_남여 비율</th>\n",
       "      <th>2020년02월_총인구수</th>\n",
       "      <th>2020년02월_세대수</th>\n",
       "      <th>...</th>\n",
       "      <th>2021년06월_세대당 인구</th>\n",
       "      <th>2021년06월_남자 인구수</th>\n",
       "      <th>2021년06월_여자 인구수</th>\n",
       "      <th>2021년06월_남여 비율</th>\n",
       "      <th>2021년07월_총인구수</th>\n",
       "      <th>2021년07월_세대수</th>\n",
       "      <th>2021년07월_세대당 인구</th>\n",
       "      <th>2021년07월_남자 인구수</th>\n",
       "      <th>2021년07월_여자 인구수</th>\n",
       "      <th>2021년07월_남여 비율</th>\n",
       "    </tr>\n",
       "  </thead>\n",
       "  <tbody>\n",
       "    <tr>\n",
       "      <th>0</th>\n",
       "      <td>서울특별시</td>\n",
       "      <td>종로구</td>\n",
       "      <td>151,215</td>\n",
       "      <td>73,925</td>\n",
       "      <td>2.05</td>\n",
       "      <td>73,688</td>\n",
       "      <td>77,527</td>\n",
       "      <td>0.95</td>\n",
       "      <td>151,309</td>\n",
       "      <td>74,028</td>\n",
       "      <td>...</td>\n",
       "      <td>1.99</td>\n",
       "      <td>70,985</td>\n",
       "      <td>75,044</td>\n",
       "      <td>0.95</td>\n",
       "      <td>145,692</td>\n",
       "      <td>73,453</td>\n",
       "      <td>1.98</td>\n",
       "      <td>70,810</td>\n",
       "      <td>74,882</td>\n",
       "      <td>0.95</td>\n",
       "    </tr>\n",
       "    <tr>\n",
       "      <th>1</th>\n",
       "      <td>서울특별시</td>\n",
       "      <td>중구</td>\n",
       "      <td>126,201</td>\n",
       "      <td>62,814</td>\n",
       "      <td>2.01</td>\n",
       "      <td>61,946</td>\n",
       "      <td>64,255</td>\n",
       "      <td>0.96</td>\n",
       "      <td>126,259</td>\n",
       "      <td>63,016</td>\n",
       "      <td>...</td>\n",
       "      <td>1.96</td>\n",
       "      <td>60,019</td>\n",
       "      <td>62,997</td>\n",
       "      <td>0.95</td>\n",
       "      <td>122,951</td>\n",
       "      <td>63,001</td>\n",
       "      <td>1.95</td>\n",
       "      <td>59,945</td>\n",
       "      <td>63,006</td>\n",
       "      <td>0.95</td>\n",
       "    </tr>\n",
       "    <tr>\n",
       "      <th>2</th>\n",
       "      <td>서울특별시</td>\n",
       "      <td>용산구</td>\n",
       "      <td>229,385</td>\n",
       "      <td>110,457</td>\n",
       "      <td>2.08</td>\n",
       "      <td>110,701</td>\n",
       "      <td>118,684</td>\n",
       "      <td>0.93</td>\n",
       "      <td>229,677</td>\n",
       "      <td>110,770</td>\n",
       "      <td>...</td>\n",
       "      <td>2.03</td>\n",
       "      <td>108,948</td>\n",
       "      <td>117,430</td>\n",
       "      <td>0.93</td>\n",
       "      <td>225,977</td>\n",
       "      <td>111,635</td>\n",
       "      <td>2.02</td>\n",
       "      <td>108,709</td>\n",
       "      <td>117,268</td>\n",
       "      <td>0.93</td>\n",
       "    </tr>\n",
       "    <tr>\n",
       "      <th>3</th>\n",
       "      <td>서울특별시</td>\n",
       "      <td>성동구</td>\n",
       "      <td>300,410</td>\n",
       "      <td>135,732</td>\n",
       "      <td>2.21</td>\n",
       "      <td>147,020</td>\n",
       "      <td>153,390</td>\n",
       "      <td>0.96</td>\n",
       "      <td>299,797</td>\n",
       "      <td>135,797</td>\n",
       "      <td>...</td>\n",
       "      <td>2.15</td>\n",
       "      <td>141,042</td>\n",
       "      <td>148,120</td>\n",
       "      <td>0.95</td>\n",
       "      <td>288,703</td>\n",
       "      <td>134,493</td>\n",
       "      <td>2.15</td>\n",
       "      <td>140,811</td>\n",
       "      <td>147,892</td>\n",
       "      <td>0.95</td>\n",
       "    </tr>\n",
       "    <tr>\n",
       "      <th>4</th>\n",
       "      <td>서울특별시</td>\n",
       "      <td>광진구</td>\n",
       "      <td>351,263</td>\n",
       "      <td>164,730</td>\n",
       "      <td>2.13</td>\n",
       "      <td>170,164</td>\n",
       "      <td>181,099</td>\n",
       "      <td>0.94</td>\n",
       "      <td>351,032</td>\n",
       "      <td>165,100</td>\n",
       "      <td>...</td>\n",
       "      <td>2.05</td>\n",
       "      <td>165,233</td>\n",
       "      <td>177,248</td>\n",
       "      <td>0.93</td>\n",
       "      <td>342,111</td>\n",
       "      <td>167,057</td>\n",
       "      <td>2.05</td>\n",
       "      <td>165,039</td>\n",
       "      <td>177,072</td>\n",
       "      <td>0.93</td>\n",
       "    </tr>\n",
       "  </tbody>\n",
       "</table>\n",
       "<p>5 rows × 116 columns</p>\n",
       "</div>"
      ],
      "text/plain": [
       "    행정구역  자치구 2020년01월_총인구수 2020년01월_세대수  2020년01월_세대당 인구 2020년01월_남자 인구수  \\\n",
       "0  서울특별시  종로구       151,215       73,925             2.05          73,688   \n",
       "1  서울특별시   중구       126,201       62,814             2.01          61,946   \n",
       "2  서울특별시  용산구       229,385      110,457             2.08         110,701   \n",
       "3  서울특별시  성동구       300,410      135,732             2.21         147,020   \n",
       "4  서울특별시  광진구       351,263      164,730             2.13         170,164   \n",
       "\n",
       "  2020년01월_여자 인구수  2020년01월_남여 비율 2020년02월_총인구수 2020년02월_세대수  ...  \\\n",
       "0          77,527            0.95       151,309       74,028  ...   \n",
       "1          64,255            0.96       126,259       63,016  ...   \n",
       "2         118,684            0.93       229,677      110,770  ...   \n",
       "3         153,390            0.96       299,797      135,797  ...   \n",
       "4         181,099            0.94       351,032      165,100  ...   \n",
       "\n",
       "   2021년06월_세대당 인구 2021년06월_남자 인구수 2021년06월_여자 인구수  2021년06월_남여 비율  \\\n",
       "0             1.99          70,985          75,044            0.95   \n",
       "1             1.96          60,019          62,997            0.95   \n",
       "2             2.03         108,948         117,430            0.93   \n",
       "3             2.15         141,042         148,120            0.95   \n",
       "4             2.05         165,233         177,248            0.93   \n",
       "\n",
       "  2021년07월_총인구수 2021년07월_세대수  2021년07월_세대당 인구 2021년07월_남자 인구수 2021년07월_여자 인구수  \\\n",
       "0       145,692       73,453             1.98          70,810          74,882   \n",
       "1       122,951       63,001             1.95          59,945          63,006   \n",
       "2       225,977      111,635             2.02         108,709         117,268   \n",
       "3       288,703      134,493             2.15         140,811         147,892   \n",
       "4       342,111      167,057             2.05         165,039         177,072   \n",
       "\n",
       "   2021년07월_남여 비율  \n",
       "0            0.95  \n",
       "1            0.95  \n",
       "2            0.93  \n",
       "3            0.95  \n",
       "4            0.93  \n",
       "\n",
       "[5 rows x 116 columns]"
      ]
     },
     "execution_count": 12,
     "metadata": {},
     "output_type": "execute_result"
    }
   ],
   "source": [
    "pop_total.head()"
   ]
  },
  {
   "cell_type": "code",
   "execution_count": 13,
   "id": "87b359bc",
   "metadata": {},
   "outputs": [
    {
     "data": {
      "text/html": [
       "<div>\n",
       "<style scoped>\n",
       "    .dataframe tbody tr th:only-of-type {\n",
       "        vertical-align: middle;\n",
       "    }\n",
       "\n",
       "    .dataframe tbody tr th {\n",
       "        vertical-align: top;\n",
       "    }\n",
       "\n",
       "    .dataframe thead th {\n",
       "        text-align: right;\n",
       "    }\n",
       "</style>\n",
       "<table border=\"1\" class=\"dataframe\">\n",
       "  <thead>\n",
       "    <tr style=\"text-align: right;\">\n",
       "      <th></th>\n",
       "      <th>자치구</th>\n",
       "      <th>2020년06월_총인구수</th>\n",
       "      <th>2020년06월_남자 인구수</th>\n",
       "      <th>2020년06월_여자 인구수</th>\n",
       "      <th>2020년6월_남자 비율</th>\n",
       "      <th>2020년6월_여자 비율</th>\n",
       "    </tr>\n",
       "  </thead>\n",
       "  <tbody>\n",
       "    <tr>\n",
       "      <th>0</th>\n",
       "      <td>종로구</td>\n",
       "      <td>150383.0</td>\n",
       "      <td>73288.0</td>\n",
       "      <td>77095.0</td>\n",
       "      <td>48.7</td>\n",
       "      <td>51.3</td>\n",
       "    </tr>\n",
       "    <tr>\n",
       "      <th>1</th>\n",
       "      <td>중구</td>\n",
       "      <td>126092.0</td>\n",
       "      <td>61697.0</td>\n",
       "      <td>64395.0</td>\n",
       "      <td>48.9</td>\n",
       "      <td>51.1</td>\n",
       "    </tr>\n",
       "    <tr>\n",
       "      <th>2</th>\n",
       "      <td>용산구</td>\n",
       "      <td>229431.0</td>\n",
       "      <td>110527.0</td>\n",
       "      <td>118904.0</td>\n",
       "      <td>48.2</td>\n",
       "      <td>51.8</td>\n",
       "    </tr>\n",
       "    <tr>\n",
       "      <th>3</th>\n",
       "      <td>성동구</td>\n",
       "      <td>297397.0</td>\n",
       "      <td>145258.0</td>\n",
       "      <td>152139.0</td>\n",
       "      <td>48.8</td>\n",
       "      <td>51.2</td>\n",
       "    </tr>\n",
       "    <tr>\n",
       "      <th>4</th>\n",
       "      <td>광진구</td>\n",
       "      <td>349574.0</td>\n",
       "      <td>168879.0</td>\n",
       "      <td>180695.0</td>\n",
       "      <td>48.3</td>\n",
       "      <td>51.7</td>\n",
       "    </tr>\n",
       "  </tbody>\n",
       "</table>\n",
       "</div>"
      ],
      "text/plain": [
       "   자치구  2020년06월_총인구수  2020년06월_남자 인구수  2020년06월_여자 인구수  2020년6월_남자 비율  \\\n",
       "0  종로구       150383.0          73288.0          77095.0           48.7   \n",
       "1   중구       126092.0          61697.0          64395.0           48.9   \n",
       "2  용산구       229431.0         110527.0         118904.0           48.2   \n",
       "3  성동구       297397.0         145258.0         152139.0           48.8   \n",
       "4  광진구       349574.0         168879.0         180695.0           48.3   \n",
       "\n",
       "   2020년6월_여자 비율  \n",
       "0           51.3  \n",
       "1           51.1  \n",
       "2           51.8  \n",
       "3           51.2  \n",
       "4           51.7  "
      ]
     },
     "execution_count": 13,
     "metadata": {},
     "output_type": "execute_result"
    }
   ],
   "source": [
    "# 서울시 자치구별 남/여 비율\n",
    "pop_gender = pop_total[['자치구', '2020년06월_총인구수', '2020년06월_남자 인구수', '2020년06월_여자 인구수']]\n",
    "def _get_gen_ratio(total, male, female):\n",
    "    '''\n",
    "        자치구별 남/여 비율 구하는 함수 정의\n",
    "        total: 전체 인구 수\n",
    "        male: 남자 인구 수\n",
    "        female: 여자 인구 수\n",
    "    '''\n",
    "    return pd.Series([round(male/total*100,1), round(female/total*100,1)])\n",
    "\n",
    "pop_gender[['2020년6월_남자 비율', '2020년6월_여자 비율']] = pop_gender.apply(lambda x: _get_gen_ratio(x['2020년06월_총인구수'],x['2020년06월_남자 인구수'], x['2020년06월_여자 인구수']), axis = 1)\n",
    "pop_gender.head()"
   ]
  },
  {
   "cell_type": "code",
   "execution_count": 14,
   "id": "231f184a",
   "metadata": {},
   "outputs": [
    {
     "data": {
      "text/html": [
       "<div>\n",
       "<style scoped>\n",
       "    .dataframe tbody tr th:only-of-type {\n",
       "        vertical-align: middle;\n",
       "    }\n",
       "\n",
       "    .dataframe tbody tr th {\n",
       "        vertical-align: top;\n",
       "    }\n",
       "\n",
       "    .dataframe thead th {\n",
       "        text-align: right;\n",
       "    }\n",
       "</style>\n",
       "<table border=\"1\" class=\"dataframe\">\n",
       "  <thead>\n",
       "    <tr style=\"text-align: right;\">\n",
       "      <th></th>\n",
       "      <th>자치구</th>\n",
       "      <th>총인구2018</th>\n",
       "      <th>총인구2019</th>\n",
       "      <th>총인구2020</th>\n",
       "      <th>MZ인구2018</th>\n",
       "      <th>MZ인구2019</th>\n",
       "      <th>MZ인구2020</th>\n",
       "      <th>일인가구2018</th>\n",
       "      <th>일인가구2019</th>\n",
       "      <th>일인가구2020</th>\n",
       "      <th>...</th>\n",
       "      <th>전체가구2020</th>\n",
       "      <th>미니주택2018</th>\n",
       "      <th>미니주택2019</th>\n",
       "      <th>미니주택2020</th>\n",
       "      <th>큰주택2018</th>\n",
       "      <th>큰주택2019</th>\n",
       "      <th>큰주택2020</th>\n",
       "      <th>MZ인구비율2020</th>\n",
       "      <th>미니주택비율2020</th>\n",
       "      <th>큰주택비율2020</th>\n",
       "    </tr>\n",
       "  </thead>\n",
       "  <tbody>\n",
       "    <tr>\n",
       "      <th>0</th>\n",
       "      <td>강남구</td>\n",
       "      <td>507775</td>\n",
       "      <td>509152</td>\n",
       "      <td>508085</td>\n",
       "      <td>181422</td>\n",
       "      <td>178256</td>\n",
       "      <td>175052</td>\n",
       "      <td>62727</td>\n",
       "      <td>66073</td>\n",
       "      <td>68999</td>\n",
       "      <td>...</td>\n",
       "      <td>494125</td>\n",
       "      <td>19656</td>\n",
       "      <td>20442</td>\n",
       "      <td>21598</td>\n",
       "      <td>162356</td>\n",
       "      <td>161455</td>\n",
       "      <td>165040</td>\n",
       "      <td>34.5</td>\n",
       "      <td>11.6</td>\n",
       "      <td>88.4</td>\n",
       "    </tr>\n",
       "    <tr>\n",
       "      <th>1</th>\n",
       "      <td>강동구</td>\n",
       "      <td>414198</td>\n",
       "      <td>415244</td>\n",
       "      <td>444377</td>\n",
       "      <td>140644</td>\n",
       "      <td>138656</td>\n",
       "      <td>147191</td>\n",
       "      <td>42126</td>\n",
       "      <td>45188</td>\n",
       "      <td>50316</td>\n",
       "      <td>...</td>\n",
       "      <td>432784</td>\n",
       "      <td>17349</td>\n",
       "      <td>17051</td>\n",
       "      <td>17636</td>\n",
       "      <td>111134</td>\n",
       "      <td>111671</td>\n",
       "      <td>126835</td>\n",
       "      <td>33.1</td>\n",
       "      <td>12.2</td>\n",
       "      <td>87.8</td>\n",
       "    </tr>\n",
       "    <tr>\n",
       "      <th>2</th>\n",
       "      <td>강북구</td>\n",
       "      <td>309111</td>\n",
       "      <td>303851</td>\n",
       "      <td>299512</td>\n",
       "      <td>99635</td>\n",
       "      <td>95980</td>\n",
       "      <td>92794</td>\n",
       "      <td>40872</td>\n",
       "      <td>42791</td>\n",
       "      <td>45685</td>\n",
       "      <td>...</td>\n",
       "      <td>290437</td>\n",
       "      <td>20507</td>\n",
       "      <td>20365</td>\n",
       "      <td>20096</td>\n",
       "      <td>75834</td>\n",
       "      <td>77983</td>\n",
       "      <td>78853</td>\n",
       "      <td>31.0</td>\n",
       "      <td>20.3</td>\n",
       "      <td>79.7</td>\n",
       "    </tr>\n",
       "    <tr>\n",
       "      <th>3</th>\n",
       "      <td>강서구</td>\n",
       "      <td>578503</td>\n",
       "      <td>574057</td>\n",
       "      <td>564816</td>\n",
       "      <td>212416</td>\n",
       "      <td>208603</td>\n",
       "      <td>203577</td>\n",
       "      <td>73011</td>\n",
       "      <td>79371</td>\n",
       "      <td>86172</td>\n",
       "      <td>...</td>\n",
       "      <td>551415</td>\n",
       "      <td>33420</td>\n",
       "      <td>35689</td>\n",
       "      <td>38396</td>\n",
       "      <td>178677</td>\n",
       "      <td>181947</td>\n",
       "      <td>183987</td>\n",
       "      <td>36.0</td>\n",
       "      <td>17.3</td>\n",
       "      <td>82.7</td>\n",
       "    </tr>\n",
       "    <tr>\n",
       "      <th>4</th>\n",
       "      <td>관악구</td>\n",
       "      <td>510265</td>\n",
       "      <td>507792</td>\n",
       "      <td>502603</td>\n",
       "      <td>220957</td>\n",
       "      <td>220592</td>\n",
       "      <td>219113</td>\n",
       "      <td>112733</td>\n",
       "      <td>119863</td>\n",
       "      <td>129233</td>\n",
       "      <td>...</td>\n",
       "      <td>470469</td>\n",
       "      <td>38220</td>\n",
       "      <td>38745</td>\n",
       "      <td>38945</td>\n",
       "      <td>101631</td>\n",
       "      <td>103046</td>\n",
       "      <td>104405</td>\n",
       "      <td>43.6</td>\n",
       "      <td>27.2</td>\n",
       "      <td>72.8</td>\n",
       "    </tr>\n",
       "  </tbody>\n",
       "</table>\n",
       "<p>5 rows × 22 columns</p>\n",
       "</div>"
      ],
      "text/plain": [
       "   자치구  총인구2018  총인구2019  총인구2020  MZ인구2018  MZ인구2019  MZ인구2020  일인가구2018  \\\n",
       "0  강남구   507775   509152   508085    181422    178256    175052     62727   \n",
       "1  강동구   414198   415244   444377    140644    138656    147191     42126   \n",
       "2  강북구   309111   303851   299512     99635     95980     92794     40872   \n",
       "3  강서구   578503   574057   564816    212416    208603    203577     73011   \n",
       "4  관악구   510265   507792   502603    220957    220592    219113    112733   \n",
       "\n",
       "   일인가구2019  일인가구2020  ...  전체가구2020  미니주택2018  미니주택2019  미니주택2020  큰주택2018  \\\n",
       "0     66073     68999  ...    494125     19656     20442     21598   162356   \n",
       "1     45188     50316  ...    432784     17349     17051     17636   111134   \n",
       "2     42791     45685  ...    290437     20507     20365     20096    75834   \n",
       "3     79371     86172  ...    551415     33420     35689     38396   178677   \n",
       "4    119863    129233  ...    470469     38220     38745     38945   101631   \n",
       "\n",
       "   큰주택2019  큰주택2020  MZ인구비율2020  미니주택비율2020  큰주택비율2020  \n",
       "0   161455   165040        34.5        11.6       88.4  \n",
       "1   111671   126835        33.1        12.2       87.8  \n",
       "2    77983    78853        31.0        20.3       79.7  \n",
       "3   181947   183987        36.0        17.3       82.7  \n",
       "4   103046   104405        43.6        27.2       72.8  \n",
       "\n",
       "[5 rows x 22 columns]"
      ]
     },
     "execution_count": 14,
     "metadata": {},
     "output_type": "execute_result"
    }
   ],
   "source": [
    "# 서울시 자치구별 MZ세대 비율\n",
    "pop_mz[\"MZ인구비율2020\"] = pop_mz.apply(lambda x: round(x['MZ인구2020']/x['총인구2020']*100,1), axis = 1)\n",
    "pop_mz[\"미니주택비율2020\"] = pop_mz.apply(lambda x: round(x['미니주택2020']/(x['미니주택2020'] + x['큰주택2020'])*100,1), axis = 1)\n",
    "pop_mz[\"큰주택비율2020\"] = pop_mz.apply(lambda x: round(x['큰주택2020']/(x['미니주택2020'] + x['큰주택2020'])*100,1), axis = 1)\n",
    "pop_mz.head()"
   ]
  },
  {
   "cell_type": "markdown",
   "id": "b88a86ed",
   "metadata": {},
   "source": [
    "  "
   ]
  },
  {
   "cell_type": "markdown",
   "id": "7033b6ca",
   "metadata": {},
   "source": [
    "* 전처리가 끝난 각 데이터셋에서 시각화에 필요한 변수들만 모아보자"
   ]
  },
  {
   "cell_type": "code",
   "execution_count": 15,
   "id": "da736245",
   "metadata": {},
   "outputs": [],
   "source": [
    "pop_total_f = pop_total[['자치구', '2020년06월_총인구수', '2020년06월_세대수', '2020년06월_세대당 인구']]\n",
    "pop_one_f =  pop_one[['자치구', '2020_1인가구_비율', '2020_1인가구','2020_일반가구']]\n",
    "pop_age1_f = pop_age1[['자치구', 'age_g', '연령대비율(%)']]\n",
    "pop_gender_f = pop_gender[['자치구', '2020년6월_남자 비율', '2020년6월_여자 비율']]\n",
    "pop_mz_f = pop_mz[['자치구', 'MZ인구2020', 'MZ인구비율2020', '미니주택비율2020', '큰주택비율2020']]\n",
    "\n",
    "df = pop_total_f.merge(pop_one_f, on = '자치구', how = 'left')\n",
    "df1 = df.merge(pop_age1_f, on = '자치구', how = 'left')\n",
    "df2 = df1.merge(pop_gender_f, on = '자치구', how = 'left')\n",
    "pop_final = df2.merge(pop_mz_f, on = '자치구', how = 'left')"
   ]
  },
  {
   "cell_type": "code",
   "execution_count": 16,
   "id": "3dd0aa6f",
   "metadata": {},
   "outputs": [
    {
     "data": {
      "text/html": [
       "<div>\n",
       "<style scoped>\n",
       "    .dataframe tbody tr th:only-of-type {\n",
       "        vertical-align: middle;\n",
       "    }\n",
       "\n",
       "    .dataframe tbody tr th {\n",
       "        vertical-align: top;\n",
       "    }\n",
       "\n",
       "    .dataframe thead th {\n",
       "        text-align: right;\n",
       "    }\n",
       "</style>\n",
       "<table border=\"1\" class=\"dataframe\">\n",
       "  <thead>\n",
       "    <tr style=\"text-align: right;\">\n",
       "      <th></th>\n",
       "      <th>자치구</th>\n",
       "      <th>2020년06월_총인구수</th>\n",
       "      <th>2020년06월_세대수</th>\n",
       "      <th>2020년06월_세대당 인구</th>\n",
       "      <th>2020_1인가구_비율</th>\n",
       "      <th>2020_1인가구</th>\n",
       "      <th>2020_일반가구</th>\n",
       "      <th>age_g</th>\n",
       "      <th>연령대비율(%)</th>\n",
       "      <th>2020년6월_남자 비율</th>\n",
       "      <th>2020년6월_여자 비율</th>\n",
       "      <th>MZ인구2020</th>\n",
       "      <th>MZ인구비율2020</th>\n",
       "      <th>미니주택비율2020</th>\n",
       "      <th>큰주택비율2020</th>\n",
       "    </tr>\n",
       "  </thead>\n",
       "  <tbody>\n",
       "    <tr>\n",
       "      <th>0</th>\n",
       "      <td>종로구</td>\n",
       "      <td>150383.0</td>\n",
       "      <td>74497.0</td>\n",
       "      <td>2.02</td>\n",
       "      <td>41.0</td>\n",
       "      <td>25983.0</td>\n",
       "      <td>63414.0</td>\n",
       "      <td>10대</td>\n",
       "      <td>8.2</td>\n",
       "      <td>48.7</td>\n",
       "      <td>51.3</td>\n",
       "      <td>56491</td>\n",
       "      <td>37.3</td>\n",
       "      <td>34.7</td>\n",
       "      <td>65.3</td>\n",
       "    </tr>\n",
       "    <tr>\n",
       "      <th>1</th>\n",
       "      <td>종로구</td>\n",
       "      <td>150383.0</td>\n",
       "      <td>74497.0</td>\n",
       "      <td>2.02</td>\n",
       "      <td>41.0</td>\n",
       "      <td>25983.0</td>\n",
       "      <td>63414.0</td>\n",
       "      <td>10세미만</td>\n",
       "      <td>4.9</td>\n",
       "      <td>48.7</td>\n",
       "      <td>51.3</td>\n",
       "      <td>56491</td>\n",
       "      <td>37.3</td>\n",
       "      <td>34.7</td>\n",
       "      <td>65.3</td>\n",
       "    </tr>\n",
       "    <tr>\n",
       "      <th>2</th>\n",
       "      <td>종로구</td>\n",
       "      <td>150383.0</td>\n",
       "      <td>74497.0</td>\n",
       "      <td>2.02</td>\n",
       "      <td>41.0</td>\n",
       "      <td>25983.0</td>\n",
       "      <td>63414.0</td>\n",
       "      <td>20대</td>\n",
       "      <td>18.6</td>\n",
       "      <td>48.7</td>\n",
       "      <td>51.3</td>\n",
       "      <td>56491</td>\n",
       "      <td>37.3</td>\n",
       "      <td>34.7</td>\n",
       "      <td>65.3</td>\n",
       "    </tr>\n",
       "    <tr>\n",
       "      <th>3</th>\n",
       "      <td>종로구</td>\n",
       "      <td>150383.0</td>\n",
       "      <td>74497.0</td>\n",
       "      <td>2.02</td>\n",
       "      <td>41.0</td>\n",
       "      <td>25983.0</td>\n",
       "      <td>63414.0</td>\n",
       "      <td>30대</td>\n",
       "      <td>13.7</td>\n",
       "      <td>48.7</td>\n",
       "      <td>51.3</td>\n",
       "      <td>56491</td>\n",
       "      <td>37.3</td>\n",
       "      <td>34.7</td>\n",
       "      <td>65.3</td>\n",
       "    </tr>\n",
       "    <tr>\n",
       "      <th>4</th>\n",
       "      <td>종로구</td>\n",
       "      <td>150383.0</td>\n",
       "      <td>74497.0</td>\n",
       "      <td>2.02</td>\n",
       "      <td>41.0</td>\n",
       "      <td>25983.0</td>\n",
       "      <td>63414.0</td>\n",
       "      <td>40대</td>\n",
       "      <td>14.3</td>\n",
       "      <td>48.7</td>\n",
       "      <td>51.3</td>\n",
       "      <td>56491</td>\n",
       "      <td>37.3</td>\n",
       "      <td>34.7</td>\n",
       "      <td>65.3</td>\n",
       "    </tr>\n",
       "    <tr>\n",
       "      <th>...</th>\n",
       "      <td>...</td>\n",
       "      <td>...</td>\n",
       "      <td>...</td>\n",
       "      <td>...</td>\n",
       "      <td>...</td>\n",
       "      <td>...</td>\n",
       "      <td>...</td>\n",
       "      <td>...</td>\n",
       "      <td>...</td>\n",
       "      <td>...</td>\n",
       "      <td>...</td>\n",
       "      <td>...</td>\n",
       "      <td>...</td>\n",
       "      <td>...</td>\n",
       "      <td>...</td>\n",
       "    </tr>\n",
       "    <tr>\n",
       "      <th>195</th>\n",
       "      <td>강동구</td>\n",
       "      <td>457164.0</td>\n",
       "      <td>193095.0</td>\n",
       "      <td>2.37</td>\n",
       "      <td>28.4</td>\n",
       "      <td>50316.0</td>\n",
       "      <td>177148.0</td>\n",
       "      <td>30대</td>\n",
       "      <td>15.7</td>\n",
       "      <td>49.3</td>\n",
       "      <td>50.7</td>\n",
       "      <td>147191</td>\n",
       "      <td>33.1</td>\n",
       "      <td>12.2</td>\n",
       "      <td>87.8</td>\n",
       "    </tr>\n",
       "    <tr>\n",
       "      <th>196</th>\n",
       "      <td>강동구</td>\n",
       "      <td>457164.0</td>\n",
       "      <td>193095.0</td>\n",
       "      <td>2.37</td>\n",
       "      <td>28.4</td>\n",
       "      <td>50316.0</td>\n",
       "      <td>177148.0</td>\n",
       "      <td>40대</td>\n",
       "      <td>16.0</td>\n",
       "      <td>49.3</td>\n",
       "      <td>50.7</td>\n",
       "      <td>147191</td>\n",
       "      <td>33.1</td>\n",
       "      <td>12.2</td>\n",
       "      <td>87.8</td>\n",
       "    </tr>\n",
       "    <tr>\n",
       "      <th>197</th>\n",
       "      <td>강동구</td>\n",
       "      <td>457164.0</td>\n",
       "      <td>193095.0</td>\n",
       "      <td>2.37</td>\n",
       "      <td>28.4</td>\n",
       "      <td>50316.0</td>\n",
       "      <td>177148.0</td>\n",
       "      <td>50대</td>\n",
       "      <td>15.9</td>\n",
       "      <td>49.3</td>\n",
       "      <td>50.7</td>\n",
       "      <td>147191</td>\n",
       "      <td>33.1</td>\n",
       "      <td>12.2</td>\n",
       "      <td>87.8</td>\n",
       "    </tr>\n",
       "    <tr>\n",
       "      <th>198</th>\n",
       "      <td>강동구</td>\n",
       "      <td>457164.0</td>\n",
       "      <td>193095.0</td>\n",
       "      <td>2.37</td>\n",
       "      <td>28.4</td>\n",
       "      <td>50316.0</td>\n",
       "      <td>177148.0</td>\n",
       "      <td>60대</td>\n",
       "      <td>13.9</td>\n",
       "      <td>49.3</td>\n",
       "      <td>50.7</td>\n",
       "      <td>147191</td>\n",
       "      <td>33.1</td>\n",
       "      <td>12.2</td>\n",
       "      <td>87.8</td>\n",
       "    </tr>\n",
       "    <tr>\n",
       "      <th>199</th>\n",
       "      <td>강동구</td>\n",
       "      <td>457164.0</td>\n",
       "      <td>193095.0</td>\n",
       "      <td>2.37</td>\n",
       "      <td>28.4</td>\n",
       "      <td>50316.0</td>\n",
       "      <td>177148.0</td>\n",
       "      <td>70세 이상</td>\n",
       "      <td>9.3</td>\n",
       "      <td>49.3</td>\n",
       "      <td>50.7</td>\n",
       "      <td>147191</td>\n",
       "      <td>33.1</td>\n",
       "      <td>12.2</td>\n",
       "      <td>87.8</td>\n",
       "    </tr>\n",
       "  </tbody>\n",
       "</table>\n",
       "<p>200 rows × 15 columns</p>\n",
       "</div>"
      ],
      "text/plain": [
       "     자치구  2020년06월_총인구수  2020년06월_세대수  2020년06월_세대당 인구  2020_1인가구_비율  \\\n",
       "0    종로구       150383.0       74497.0             2.02          41.0   \n",
       "1    종로구       150383.0       74497.0             2.02          41.0   \n",
       "2    종로구       150383.0       74497.0             2.02          41.0   \n",
       "3    종로구       150383.0       74497.0             2.02          41.0   \n",
       "4    종로구       150383.0       74497.0             2.02          41.0   \n",
       "..   ...            ...           ...              ...           ...   \n",
       "195  강동구       457164.0      193095.0             2.37          28.4   \n",
       "196  강동구       457164.0      193095.0             2.37          28.4   \n",
       "197  강동구       457164.0      193095.0             2.37          28.4   \n",
       "198  강동구       457164.0      193095.0             2.37          28.4   \n",
       "199  강동구       457164.0      193095.0             2.37          28.4   \n",
       "\n",
       "     2020_1인가구  2020_일반가구   age_g  연령대비율(%)  2020년6월_남자 비율  2020년6월_여자 비율  \\\n",
       "0      25983.0    63414.0     10대       8.2           48.7           51.3   \n",
       "1      25983.0    63414.0   10세미만       4.9           48.7           51.3   \n",
       "2      25983.0    63414.0     20대      18.6           48.7           51.3   \n",
       "3      25983.0    63414.0     30대      13.7           48.7           51.3   \n",
       "4      25983.0    63414.0     40대      14.3           48.7           51.3   \n",
       "..         ...        ...     ...       ...            ...            ...   \n",
       "195    50316.0   177148.0     30대      15.7           49.3           50.7   \n",
       "196    50316.0   177148.0     40대      16.0           49.3           50.7   \n",
       "197    50316.0   177148.0     50대      15.9           49.3           50.7   \n",
       "198    50316.0   177148.0     60대      13.9           49.3           50.7   \n",
       "199    50316.0   177148.0  70세 이상       9.3           49.3           50.7   \n",
       "\n",
       "     MZ인구2020  MZ인구비율2020  미니주택비율2020  큰주택비율2020  \n",
       "0       56491        37.3        34.7       65.3  \n",
       "1       56491        37.3        34.7       65.3  \n",
       "2       56491        37.3        34.7       65.3  \n",
       "3       56491        37.3        34.7       65.3  \n",
       "4       56491        37.3        34.7       65.3  \n",
       "..        ...         ...         ...        ...  \n",
       "195    147191        33.1        12.2       87.8  \n",
       "196    147191        33.1        12.2       87.8  \n",
       "197    147191        33.1        12.2       87.8  \n",
       "198    147191        33.1        12.2       87.8  \n",
       "199    147191        33.1        12.2       87.8  \n",
       "\n",
       "[200 rows x 15 columns]"
      ]
     },
     "execution_count": 16,
     "metadata": {},
     "output_type": "execute_result"
    }
   ],
   "source": [
    "# 최종 인구통계 데이터\n",
    "pop_final"
   ]
  },
  {
   "cell_type": "markdown",
   "id": "231f7c49",
   "metadata": {},
   "source": [
    " "
   ]
  },
  {
   "cell_type": "markdown",
   "id": "622632d4",
   "metadata": {},
   "source": [
    "### 04. Data Investigation"
   ]
  },
  {
   "cell_type": "markdown",
   "id": "58e69e8c",
   "metadata": {
    "tags": []
   },
   "source": [
    "#### Base Analysis"
   ]
  },
  {
   "cell_type": "markdown",
   "id": "7378bdbe",
   "metadata": {},
   "source": [
    "##### 서울시 자치구별 총인구 수\n",
    "**주민등록인구 vs 생활인구**  \n",
    "> 주민등록인구는 주민등록신고에 기반하여 작성한 통계이며 생활인구는 조사시점 현재 그 지역에 머무르고 있는 실제 인구를 뜻합니다.  \n",
    "> 본 분석에서 자치구별 총인구 수를 기준으로 비율을 산출하기 때문에 변동성이 적은 주민등록인구를 사용합시다."
   ]
  },
  {
   "cell_type": "code",
   "execution_count": 17,
   "id": "2e715316",
   "metadata": {},
   "outputs": [
    {
     "data": {
      "image/png": "[encoded data removed]",
      "text/plain": [
       "<Figure size 1296x288 with 1 Axes>"
      ]
     },
     "metadata": {
      "needs_background": "light"
     },
     "output_type": "display_data"
    }
   ],
   "source": [
    "plt.figure(figsize = (18, 4))\n",
    "plots = sns.barplot(data = pop_final, x = '자치구', y = '2020년06월_총인구수', \n",
    "                    order = pop_final.groupby('자치구')['2020년06월_총인구수'].mean().sort_values(ascending = False).index)\n",
    "\n",
    "for bar in plots.patches:\n",
    "    plots.annotate(format(bar.get_height(), '.1f'),\n",
    "                   (bar.get_x() + bar.get_width() / 2, \n",
    "                    bar.get_height()), ha='center', va='center',\n",
    "                   size=11, xytext=(0, 8),\n",
    "                   textcoords='offset points')\n",
    "\n",
    "plt.xlabel('서울시 자치구')\n",
    "plt.ylabel('총인구 수')\n",
    "plt.title('서울시 자치구별 총인구 수')\n",
    "plt.ylim(top = 900000)\n",
    "plt.show()"
   ]
  },
  {
   "cell_type": "markdown",
   "id": "18238bb1",
   "metadata": {},
   "source": [
    "* 기본적으로 자치구별 총인구 수를 비교합니다.  \n",
    "* 송파구가 제일 인구 수가 많네요"
   ]
  },
  {
   "cell_type": "markdown",
   "id": "0efa9cb7",
   "metadata": {},
   "source": [
    "  "
   ]
  },
  {
   "cell_type": "markdown",
   "id": "c6201d4f",
   "metadata": {},
   "source": [
    "##### 서울시 자치구별 세대 수 \n",
    "**세대수란**  \n",
    "> 주거 및 생계를 같이하는 집단"
   ]
  },
  {
   "cell_type": "code",
   "execution_count": 18,
   "id": "0066da36",
   "metadata": {},
   "outputs": [
    {
     "data": {
      "image/png": "[encoded data removed]",
      "text/plain": [
       "<Figure size 1296x288 with 1 Axes>"
      ]
     },
     "metadata": {
      "needs_background": "light"
     },
     "output_type": "display_data"
    }
   ],
   "source": [
    "## 서울시 자치구별 세대 수\n",
    "plt.figure(figsize = (18, 4))\n",
    "plots = sns.barplot(data = pop_final, x = '자치구', y = '2020년06월_세대수', \n",
    "                    order = pop_final.groupby('자치구')['2020년06월_총인구수'].mean().sort_values(ascending = False).index)\n",
    "\n",
    "for bar in plots.patches:\n",
    "    plots.annotate(format(bar.get_height(), '.1f'),\n",
    "                   (bar.get_x() + bar.get_width() / 2, \n",
    "                    bar.get_height()), ha='center', va='center',\n",
    "                   size=11, xytext=(0, 8),\n",
    "                   textcoords='offset points')\n",
    "\n",
    "plt.xlabel('서울시 자치구')\n",
    "plt.ylabel('세대 수')\n",
    "plt.title('서울시 자치구별 세대 수')\n",
    "plt.ylim(top = 400000)\n",
    "plt.show()"
   ]
  },
  {
   "cell_type": "markdown",
   "id": "46416790",
   "metadata": {},
   "source": [
    "* 전반적으로 총인구 수가 낮을 수록 세대 수가 낮은 경향을 보이고 있습니다.  \n",
    "* **관악구**의 경우는 조금 다르네요. 총인구 수 대비 세대가 많다는 것을 확인할 수 있습니다. 하지만, 자치구별로 총인구 수가 다르기 때문에 정확히 비교하기에는 어려움이 있네요... \n",
    "* 좀더 자세히 살펴보기 위해 **세대당 인구 수**를 확인해 볼 필요가 있겠습니다."
   ]
  },
  {
   "cell_type": "markdown",
   "id": "83775f84",
   "metadata": {},
   "source": [
    " "
   ]
  },
  {
   "cell_type": "markdown",
   "id": "3995be3b",
   "metadata": {},
   "source": [
    "##### 서울시 자치구별 세대당 인구 수  \n",
    "**세대당 인구 수**\n",
    "> 세대당 인구 = 총인구 수 / 세대 수  "
   ]
  },
  {
   "cell_type": "code",
   "execution_count": 19,
   "id": "cf13f579",
   "metadata": {},
   "outputs": [
    {
     "data": {
      "image/png": "[encoded data removed]",
      "text/plain": [
       "<Figure size 1296x288 with 1 Axes>"
      ]
     },
     "metadata": {
      "needs_background": "light"
     },
     "output_type": "display_data"
    }
   ],
   "source": [
    "## 서울시 자치구별 세대 당 인구 수\n",
    "plt.figure(figsize = (18, 4))\n",
    "plots = sns.barplot(data = pop_final, x = '자치구', y = '2020년06월_세대당 인구', \n",
    "                    order = pop_final.groupby('자치구')['2020년06월_총인구수'].mean().sort_values(ascending = False).index)\n",
    "\n",
    "for bar in plots.patches:\n",
    "    plots.annotate(format(bar.get_height(), '.1f'),\n",
    "                   (bar.get_x() + bar.get_width() / 2, \n",
    "                    bar.get_height()), ha='center', va='center',\n",
    "                   size=11, xytext=(0, 8),\n",
    "                   textcoords='offset points')\n",
    "\n",
    "plt.xlabel('서울시 자치구')\n",
    "plt.ylabel('세대당 인구 수')\n",
    "plt.title('서울시 자치구별 세대당 인구')\n",
    "plt.ylim(top = 5)\n",
    "plt.show()"
   ]
  },
  {
   "cell_type": "markdown",
   "id": "91a64f81",
   "metadata": {},
   "source": [
    "* 확실히, **관악구**는 각 세대가 적은 수의 구성원으로 이루어져 있다는 것을 내포하는 것 같습니다.  \n",
    "* 좀 더 자세히 확인해보기 위해 1인가구 수 비율도 같이 확인해보죠"
   ]
  },
  {
   "cell_type": "markdown",
   "id": "57fbe0fd",
   "metadata": {},
   "source": [
    " "
   ]
  },
  {
   "cell_type": "markdown",
   "id": "d3ccee31",
   "metadata": {
    "tags": []
   },
   "source": [
    "##### 서울시 자치구별 1인가구 수"
   ]
  },
  {
   "cell_type": "code",
   "execution_count": 20,
   "id": "5ae7a73d",
   "metadata": {},
   "outputs": [
    {
     "data": {
      "image/png": "[encoded data removed]",
      "text/plain": [
       "<Figure size 1296x288 with 1 Axes>"
      ]
     },
     "metadata": {
      "needs_background": "light"
     },
     "output_type": "display_data"
    }
   ],
   "source": [
    "plt.figure(figsize = (18, 4))\n",
    "plots = sns.barplot(data = pop_final, x = '자치구', y = '2020_1인가구', \n",
    "                    order = pop_final.groupby('자치구')['2020_1인가구'].mean().sort_values(ascending = False).index)\n",
    "\n",
    "for bar in plots.patches:\n",
    "    plots.annotate(format(bar.get_height(), '.1f'),\n",
    "                   (bar.get_x() + bar.get_width() / 2, \n",
    "                    bar.get_height()), ha='center', va='center',\n",
    "                   size=9, xytext=(0, 8),\n",
    "                   textcoords='offset points')\n",
    "plt.xlabel('서울시 자치구')\n",
    "plt.ylabel('1인가구 수')\n",
    "plt.title('서울시 자치구별 1인가구 수')\n",
    "plt.ylim(top = 175000)\n",
    "plt.show()"
   ]
  },
  {
   "cell_type": "markdown",
   "id": "1d250368",
   "metadata": {},
   "source": [
    "* 서울시 자치구별 1인가구 수를 살펴보니, 관악구가 제일 많았습니다.\n",
    "* 대학과 고시촌이 밀집해 있어서 학생과 수험생 수요가 많아 1인가구 수가 많아보입니다(출처: 서울경제TV)  \n",
    "* 반면, 중구와 종로구는 관악구 절반에도 못 미치는 수치입니다."
   ]
  },
  {
   "cell_type": "markdown",
   "id": "b5ac2499",
   "metadata": {},
   "source": [
    " "
   ]
  },
  {
   "cell_type": "markdown",
   "id": "c5fbfadc",
   "metadata": {},
   "source": [
    "##### 서울시 자치구별 일반가구 수\n",
    "**일반가구란?**\n",
    "> 1인 또는 2인 이상이 모여서 취사, 취침, 생계를 같이하는 단위인 가구중 외국인 가구와 집단가구(6인이상)를 제외한 가구"
   ]
  },
  {
   "cell_type": "code",
   "execution_count": 21,
   "id": "396b3ea1",
   "metadata": {},
   "outputs": [
    {
     "data": {
      "image/png": "[encoded data removed]",
      "text/plain": [
       "<Figure size 1296x288 with 1 Axes>"
      ]
     },
     "metadata": {
      "needs_background": "light"
     },
     "output_type": "display_data"
    }
   ],
   "source": [
    "plt.figure(figsize = (18, 4))\n",
    "plots = sns.barplot(data = pop_final, x = '자치구', y = '2020_일반가구', \n",
    "                    order = pop_final.groupby('자치구')['2020_일반가구'].mean().sort_values(ascending = False).index)\n",
    "\n",
    "for bar in plots.patches:\n",
    "    plots.annotate(format(bar.get_height(), '.1f'),\n",
    "                   (bar.get_x() + bar.get_width() / 2, \n",
    "                    bar.get_height()), ha='center', va='center',\n",
    "                   size=9, xytext=(0, 8),\n",
    "                   textcoords='offset points')\n",
    "\n",
    "plt.xlabel('서울시 자치구')\n",
    "plt.ylabel('일반가구 수')\n",
    "plt.title('서울시 자치구별 일반가구 수')\n",
    "plt.ylim(top = 350000)\n",
    "plt.show()"
   ]
  },
  {
   "cell_type": "markdown",
   "id": "1043b00b",
   "metadata": {
    "jp-MarkdownHeadingCollapsed": true,
    "tags": []
   },
   "source": [
    "* 일반가구를 살펴보니 송파구가 가장 많은 것을 확인할 수 있습니다.  \n",
    "* 중구와 종로구는 일반가구에서도 적은 수치를 보이고 있네요.  \n",
    "* 배경에서 1인가구의 비율이 높아짐에 따라 배달 수요가 많아진다고 했으니, 1인가구 수 보다는 **1인가구 비율**로 분석해봅시다 "
   ]
  },
  {
   "cell_type": "markdown",
   "id": "1525ea4b",
   "metadata": {},
   "source": [
    " "
   ]
  },
  {
   "cell_type": "markdown",
   "id": "560f3e11",
   "metadata": {},
   "source": [
    "##### 서울시 자치구별 성별 비율"
   ]
  },
  {
   "cell_type": "code",
   "execution_count": 22,
   "id": "5df345fc",
   "metadata": {},
   "outputs": [
    {
     "data": {
      "image/png": "[encoded data removed]",
      "text/plain": [
       "<Figure size 1296x288 with 1 Axes>"
      ]
     },
     "metadata": {
      "needs_background": "light"
     },
     "output_type": "display_data"
    }
   ],
   "source": [
    "plt.figure(figsize = (18, 4))\n",
    "plots = sns.barplot(data = pop_final, x = '자치구', y = '2020년6월_남자 비율', \n",
    "                    order = pop_final.groupby('자치구')['2020년06월_총인구수'].mean().sort_values(ascending = False).index)\n",
    "\n",
    "for bar in plots.patches:\n",
    "    plots.annotate(format(bar.get_height(), '.1f'),\n",
    "                   (bar.get_x() + bar.get_width() / 2, \n",
    "                    bar.get_height()), ha='center', va='center',\n",
    "                   size=11, xytext=(0, 8),\n",
    "                   textcoords='offset points')\n",
    "\n",
    "plt.xlabel('서울시 자치구')\n",
    "plt.ylabel('남자 비율')\n",
    "plt.title('서울시 자치구별 남자 비율')\n",
    "plt.ylim(top = 100)\n",
    "plt.show()"
   ]
  },
  {
   "cell_type": "code",
   "execution_count": 23,
   "id": "3b51d0bb",
   "metadata": {},
   "outputs": [
    {
     "data": {
      "image/png": "[encoded data removed]",
      "text/plain": [
       "<Figure size 1296x288 with 1 Axes>"
      ]
     },
     "metadata": {
      "needs_background": "light"
     },
     "output_type": "display_data"
    }
   ],
   "source": [
    "plt.figure(figsize = (18, 4))\n",
    "plots = sns.barplot(data = pop_final, x = '자치구', y = '2020년6월_여자 비율', \n",
    "                    order = pop_final.groupby('자치구')['2020년06월_총인구수'].mean().sort_values(ascending = False).index)\n",
    "\n",
    "for bar in plots.patches:\n",
    "    plots.annotate(format(bar.get_height(), '.1f'),\n",
    "                   (bar.get_x() + bar.get_width() / 2, \n",
    "                    bar.get_height()), ha='center', va='center',\n",
    "                   size=11, xytext=(0, 8),\n",
    "                   textcoords='offset points')\n",
    "\n",
    "plt.xlabel('서울시 자치구')\n",
    "plt.ylabel('여자 비율')\n",
    "plt.title('서울시 자치구별 여자 비율')\n",
    "plt.ylim(top = 100)\n",
    "plt.show()"
   ]
  },
  {
   "cell_type": "markdown",
   "id": "fe9c21f9",
   "metadata": {},
   "source": [
    "* 서울시 자치구별 성별 비율을 확인해본 결과, 전체적으로 여성의 비율이 다소 높은것을 확인할 수 있습니다. "
   ]
  },
  {
   "cell_type": "markdown",
   "id": "b112ed70",
   "metadata": {},
   "source": [
    "##### 서울시 자치구별 MZ인구 수\n",
    "**MZ세대란**  \n",
    "> 밀레니얼(Millennials)의 M과 제네레이션(Generation)의 Z가 합쳐진 말입니다. M세대는 1980년대 초부터 2000년대 초 출생한 세대로 정보기술(IT)에 능통하며 대학 진학률이 높다는 특징이 있습니다.  Z세대는 1990년대 중반 2000년대 초반 출생한 세대로 디지털 환경에서 자란’디지털 네이티브(디지털 원주민)’라는 특징이 있습니다.  \n",
    "(출처: \"MZ세대 제대로 알아보기\", 생각의 힘)  "
   ]
  },
  {
   "cell_type": "code",
   "execution_count": 24,
   "id": "d0e9d059",
   "metadata": {},
   "outputs": [
    {
     "data": {
      "image/png": "[encoded data removed]",
      "text/plain": [
       "<Figure size 1296x288 with 1 Axes>"
      ]
     },
     "metadata": {
      "needs_background": "light"
     },
     "output_type": "display_data"
    }
   ],
   "source": [
    "plt.figure(figsize = (18, 4))\n",
    "plots = sns.barplot(data = pop_final, x = '자치구', y = 'MZ인구2020', \n",
    "                    order = pop_final.groupby('자치구')['2020년06월_총인구수'].mean().sort_values(ascending = False).index)\n",
    "\n",
    "for bar in plots.patches:\n",
    "    plots.annotate(format(bar.get_height(), '.2f'),\n",
    "                   (bar.get_x() + bar.get_width() / 2, \n",
    "                    bar.get_height()), ha='center', va='center',\n",
    "                   size=11, xytext=(0, 8),\n",
    "                   textcoords='offset points')\n",
    "\n",
    "plt.xlabel('서울시 자치구')\n",
    "plt.ylabel('MZ인구 비율')\n",
    "plt.title('서울시 자치구별 MZ 인구 비율')\n",
    "plt.ylim(top = 300000)\n",
    "plt.show()"
   ]
  },
  {
   "cell_type": "markdown",
   "id": "74e505f5",
   "metadata": {},
   "source": [
    "* **송파구**, **관악구**, **강서구**에서 MZ세대가 많이 거주하고 있습니다.  \n",
    "* 반면, \"중구\", \"종로구\"에서는 MZ세대가 적군요...  \n",
    "* MZ인구 또한 자치구별 총인구 수 대비 비율로 확인하면 좋을 것 같습니다. 그리고 연령대 분포도 같이 확인해보죠"
   ]
  },
  {
   "cell_type": "markdown",
   "id": "cd2c6f52",
   "metadata": {},
   "source": [
    " "
   ]
  },
  {
   "cell_type": "markdown",
   "id": "3d8b6afa",
   "metadata": {},
   "source": [
    "##### 서울시 자치구별 연령대 분포"
   ]
  },
  {
   "cell_type": "code",
   "execution_count": 25,
   "id": "11bd40cd",
   "metadata": {},
   "outputs": [
    {
     "data": {
      "text/plain": [
       "Index(['자치구', '2020년06월_총인구수', '2020년06월_세대수', '2020년06월_세대당 인구',\n",
       "       '2020_1인가구_비율', '2020_1인가구', '2020_일반가구', 'age_g', '연령대비율(%)',\n",
       "       '2020년6월_남자 비율', '2020년6월_여자 비율', 'MZ인구2020', 'MZ인구비율2020',\n",
       "       '미니주택비율2020', '큰주택비율2020'],\n",
       "      dtype='object')"
      ]
     },
     "execution_count": 25,
     "metadata": {},
     "output_type": "execute_result"
    }
   ],
   "source": [
    "pop_final.columns"
   ]
  },
  {
   "cell_type": "code",
   "execution_count": 26,
   "id": "db5578a9",
   "metadata": {},
   "outputs": [
    {
     "data": {
      "image/png": "[encoded data removed]",
      "text/plain": [
       "<Figure size 1728x720 with 1 Axes>"
      ]
     },
     "metadata": {
      "needs_background": "light"
     },
     "output_type": "display_data"
    }
   ],
   "source": [
    "plt.figure(figsize=(24, 10))\n",
    "plots = sns.barplot(data=pop_final, x='자치구', y='연령대비율(%)',hue='age_g', palette=\"coolwarm\",\n",
    "                   order = pop_final.groupby('자치구')['2020년06월_총인구수'].mean().sort_values(ascending = False).index)\n",
    "\n",
    "plt.xlabel('서울시 자치구')\n",
    "plt.ylabel('연령대 비율')\n",
    "plt.title('서울시 자치구별 연령대 비율')\n",
    "plt.ylim(top = 30)\n",
    "plt.show()"
   ]
  },
  {
   "cell_type": "markdown",
   "id": "4ed1560a",
   "metadata": {},
   "source": [
    " "
   ]
  },
  {
   "cell_type": "markdown",
   "id": "d268d66f",
   "metadata": {},
   "source": [
    " "
   ]
  },
  {
   "cell_type": "markdown",
   "id": "c29c4b1f",
   "metadata": {},
   "source": [
    "#### Attractive of Hinterland(배후지 매력도)"
   ]
  },
  {
   "cell_type": "code",
   "execution_count": 27,
   "id": "e9734e78",
   "metadata": {},
   "outputs": [
    {
     "data": {
      "text/html": [
       "<div>\n",
       "<style scoped>\n",
       "    .dataframe tbody tr th:only-of-type {\n",
       "        vertical-align: middle;\n",
       "    }\n",
       "\n",
       "    .dataframe tbody tr th {\n",
       "        vertical-align: top;\n",
       "    }\n",
       "\n",
       "    .dataframe thead th {\n",
       "        text-align: right;\n",
       "    }\n",
       "</style>\n",
       "<table border=\"1\" class=\"dataframe\">\n",
       "  <thead>\n",
       "    <tr style=\"text-align: right;\">\n",
       "      <th></th>\n",
       "      <th>자치구</th>\n",
       "      <th>S1_1인가구비율</th>\n",
       "      <th>S2_MZ비율</th>\n",
       "    </tr>\n",
       "  </thead>\n",
       "  <tbody>\n",
       "    <tr>\n",
       "      <th>0</th>\n",
       "      <td>강남구</td>\n",
       "      <td>33.0</td>\n",
       "      <td>34.5</td>\n",
       "    </tr>\n",
       "    <tr>\n",
       "      <th>1</th>\n",
       "      <td>강동구</td>\n",
       "      <td>28.4</td>\n",
       "      <td>33.1</td>\n",
       "    </tr>\n",
       "    <tr>\n",
       "      <th>2</th>\n",
       "      <td>강북구</td>\n",
       "      <td>35.2</td>\n",
       "      <td>31.0</td>\n",
       "    </tr>\n",
       "    <tr>\n",
       "      <th>3</th>\n",
       "      <td>강서구</td>\n",
       "      <td>35.3</td>\n",
       "      <td>36.0</td>\n",
       "    </tr>\n",
       "    <tr>\n",
       "      <th>4</th>\n",
       "      <td>관악구</td>\n",
       "      <td>51.9</td>\n",
       "      <td>43.6</td>\n",
       "    </tr>\n",
       "  </tbody>\n",
       "</table>\n",
       "</div>"
      ],
      "text/plain": [
       "   자치구  S1_1인가구비율  S2_MZ비율\n",
       "0  강남구       33.0     34.5\n",
       "1  강동구       28.4     33.1\n",
       "2  강북구       35.2     31.0\n",
       "3  강서구       35.3     36.0\n",
       "4  관악구       51.9     43.6"
      ]
     },
     "execution_count": 27,
     "metadata": {},
     "output_type": "execute_result"
    }
   ],
   "source": [
    "# 배후지 매력도를 위한 테이블을 생성합니다.\n",
    "## Score1: 1인가구 비율, Score2: MZ인구 비율\n",
    "pop_score = pop_final.groupby('자치구').agg({'2020_1인가구_비율':max, 'MZ인구비율2020':max}).reset_index()\n",
    "pop_score = pop_score.rename(columns = {'2020_1인가구_비율':'S1_1인가구비율', 'MZ인구비율2020':'S2_MZ비율'})\n",
    "pop_score.head()"
   ]
  },
  {
   "cell_type": "markdown",
   "id": "1313ecf1",
   "metadata": {
    "tags": []
   },
   "source": [
    "##### 1인가구비율\n",
    "서울시 자치구별 총인구수 대비 1인가구 비율을 확인해봅시다"
   ]
  },
  {
   "cell_type": "code",
   "execution_count": 28,
   "id": "86428138",
   "metadata": {},
   "outputs": [
    {
     "data": {
      "image/png": "[encoded data removed]",
      "text/plain": [
       "<Figure size 1296x288 with 1 Axes>"
      ]
     },
     "metadata": {
      "needs_background": "light"
     },
     "output_type": "display_data"
    }
   ],
   "source": [
    "mean_y = pop_score['S1_1인가구비율'].mean()\n",
    "\n",
    "plt.figure(figsize = (18, 4))\n",
    "plots = sns.barplot(data = pop_score, x = '자치구', y = 'S1_1인가구비율',\n",
    "                    order = pop_final.groupby('자치구')['2020년06월_총인구수'].mean().sort_values(ascending = False).index)\n",
    "\n",
    "for bar in plots.patches:\n",
    "    plots.annotate(format(bar.get_height(), '.1f'),\n",
    "                   (bar.get_x() + bar.get_width() / 2, \n",
    "                    bar.get_height()), ha='center', va='center',\n",
    "                   size=9, xytext=(0, 8),\n",
    "                   textcoords='offset points')\n",
    "\n",
    "plt.axhline(y = mean_y, color = 'r', linewidth = 1)\n",
    "plt.xlabel('서울시 자치구')\n",
    "plt.ylabel('1인가구 비율')\n",
    "plt.title('서울시 자치구별 1인가구 비율')\n",
    "plt.ylim(top = 100)\n",
    "plt.show()"
   ]
  },
  {
   "cell_type": "markdown",
   "id": "f6952d0e",
   "metadata": {
    "jp-MarkdownHeadingCollapsed": true,
    "tags": []
   },
   "source": [
    "* \"1인가구 수\"와 같이 **관악구**에서 가장 높은 비율을 차지하는 것을 확인할 수 있습니다.  \n",
    "* \"1인가구 수\" 기준으로 정렬했을 때, \"1인가구 수\"가 상대적으로 적었던 **종로구**, **중구**에서 높은 비율을 보이고 있네요?\n",
    "* \"1인가구\"안에는 다양한 연령대가 분포에 있을 거고, 특히 독거노인등과 같은 취약계층은 배달 수요가 많지는 않을겁니다. 이처럼 \"1인가구 비율\"도 중요하지만 그 안에 연령대 분포를 확인하는것도 필요해 보이네요"
   ]
  },
  {
   "cell_type": "code",
   "execution_count": 29,
   "id": "673b88da",
   "metadata": {},
   "outputs": [
    {
     "data": {
      "text/html": [
       "<div>\n",
       "<style scoped>\n",
       "    .dataframe tbody tr th:only-of-type {\n",
       "        vertical-align: middle;\n",
       "    }\n",
       "\n",
       "    .dataframe tbody tr th {\n",
       "        vertical-align: top;\n",
       "    }\n",
       "\n",
       "    .dataframe thead th {\n",
       "        text-align: right;\n",
       "    }\n",
       "</style>\n",
       "<table border=\"1\" class=\"dataframe\">\n",
       "  <thead>\n",
       "    <tr style=\"text-align: right;\">\n",
       "      <th></th>\n",
       "      <th>강남구</th>\n",
       "      <th>강동구</th>\n",
       "      <th>강북구</th>\n",
       "      <th>강서구</th>\n",
       "      <th>관악구</th>\n",
       "      <th>광진구</th>\n",
       "      <th>구로구</th>\n",
       "      <th>금천구</th>\n",
       "      <th>노원구</th>\n",
       "      <th>도봉구</th>\n",
       "      <th>...</th>\n",
       "      <th>성동구</th>\n",
       "      <th>성북구</th>\n",
       "      <th>송파구</th>\n",
       "      <th>양천구</th>\n",
       "      <th>영등포구</th>\n",
       "      <th>용산구</th>\n",
       "      <th>은평구</th>\n",
       "      <th>종로구</th>\n",
       "      <th>중구</th>\n",
       "      <th>중랑구</th>\n",
       "    </tr>\n",
       "  </thead>\n",
       "  <tbody>\n",
       "    <tr>\n",
       "      <th>S1_1인가구비율</th>\n",
       "      <td>33.0</td>\n",
       "      <td>28.4</td>\n",
       "      <td>35.2</td>\n",
       "      <td>35.3</td>\n",
       "      <td>51.9</td>\n",
       "      <td>41.0</td>\n",
       "      <td>31.1</td>\n",
       "      <td>40.9</td>\n",
       "      <td>27.8</td>\n",
       "      <td>27.4</td>\n",
       "      <td>...</td>\n",
       "      <td>34.9</td>\n",
       "      <td>34.2</td>\n",
       "      <td>28.8</td>\n",
       "      <td>23.8</td>\n",
       "      <td>39.4</td>\n",
       "      <td>38.5</td>\n",
       "      <td>30.3</td>\n",
       "      <td>41.0</td>\n",
       "      <td>41.4</td>\n",
       "      <td>34.3</td>\n",
       "    </tr>\n",
       "    <tr>\n",
       "      <th>S2_MZ비율</th>\n",
       "      <td>34.5</td>\n",
       "      <td>33.1</td>\n",
       "      <td>31.0</td>\n",
       "      <td>36.0</td>\n",
       "      <td>43.6</td>\n",
       "      <td>39.6</td>\n",
       "      <td>32.5</td>\n",
       "      <td>34.0</td>\n",
       "      <td>32.5</td>\n",
       "      <td>30.5</td>\n",
       "      <td>...</td>\n",
       "      <td>37.1</td>\n",
       "      <td>36.1</td>\n",
       "      <td>35.1</td>\n",
       "      <td>31.4</td>\n",
       "      <td>36.1</td>\n",
       "      <td>36.7</td>\n",
       "      <td>32.7</td>\n",
       "      <td>37.3</td>\n",
       "      <td>37.4</td>\n",
       "      <td>33.1</td>\n",
       "    </tr>\n",
       "    <tr>\n",
       "      <th>S1_Z_score</th>\n",
       "      <td>-0.366497</td>\n",
       "      <td>-1.103336</td>\n",
       "      <td>-0.014096</td>\n",
       "      <td>0.001922</td>\n",
       "      <td>2.66095</td>\n",
       "      <td>0.914962</td>\n",
       "      <td>-0.670844</td>\n",
       "      <td>0.898944</td>\n",
       "      <td>-1.199446</td>\n",
       "      <td>-1.263519</td>\n",
       "      <td>...</td>\n",
       "      <td>-0.062151</td>\n",
       "      <td>-0.174278</td>\n",
       "      <td>-1.039263</td>\n",
       "      <td>-1.840175</td>\n",
       "      <td>0.65867</td>\n",
       "      <td>0.514506</td>\n",
       "      <td>-0.79899</td>\n",
       "      <td>0.914962</td>\n",
       "      <td>0.979035</td>\n",
       "      <td>-0.15826</td>\n",
       "    </tr>\n",
       "  </tbody>\n",
       "</table>\n",
       "<p>3 rows × 25 columns</p>\n",
       "</div>"
      ],
      "text/plain": [
       "                 강남구       강동구       강북구       강서구      관악구       광진구  \\\n",
       "S1_1인가구비율       33.0      28.4      35.2      35.3     51.9      41.0   \n",
       "S2_MZ비율         34.5      33.1      31.0      36.0     43.6      39.6   \n",
       "S1_Z_score -0.366497 -1.103336 -0.014096  0.001922  2.66095  0.914962   \n",
       "\n",
       "                 구로구       금천구       노원구       도봉구  ...       성동구       성북구  \\\n",
       "S1_1인가구비율       31.1      40.9      27.8      27.4  ...      34.9      34.2   \n",
       "S2_MZ비율         32.5      34.0      32.5      30.5  ...      37.1      36.1   \n",
       "S1_Z_score -0.670844  0.898944 -1.199446 -1.263519  ... -0.062151 -0.174278   \n",
       "\n",
       "                 송파구       양천구     영등포구       용산구      은평구       종로구  \\\n",
       "S1_1인가구비율       28.8      23.8     39.4      38.5     30.3      41.0   \n",
       "S2_MZ비율         35.1      31.4     36.1      36.7     32.7      37.3   \n",
       "S1_Z_score -1.039263 -1.840175  0.65867  0.514506 -0.79899  0.914962   \n",
       "\n",
       "                  중구      중랑구  \n",
       "S1_1인가구비율       41.4     34.3  \n",
       "S2_MZ비율         37.4     33.1  \n",
       "S1_Z_score  0.979035 -0.15826  \n",
       "\n",
       "[3 rows x 25 columns]"
      ]
     },
     "execution_count": 29,
     "metadata": {},
     "output_type": "execute_result"
    }
   ],
   "source": [
    "## Z_score 정규화\n",
    "pop_s1 = pop_score.copy()\n",
    "S1_mean = pop_s1['S1_1인가구비율'].mean()\n",
    "S1_std = pop_s1['S1_1인가구비율'].std()\n",
    "pop_s1['S1_Z_score'] = pop_s1.apply(lambda x: (x['S1_1인가구비율'] - S1_mean) / S1_std, axis = 1)\n",
    "pop_s1_T = pop_s1.transpose().rename(columns = pop_s1.transpose().iloc[0]).drop(pop_s1.transpose().index[0])\n",
    "pop_s1_T"
   ]
  },
  {
   "cell_type": "code",
   "execution_count": 30,
   "id": "357e9b45",
   "metadata": {
    "tags": []
   },
   "outputs": [
    {
     "data": {
      "image/png": "[encoded data removed]",
      "text/plain": [
       "<Figure size 1296x72 with 2 Axes>"
      ]
     },
     "metadata": {
      "needs_background": "light"
     },
     "output_type": "display_data"
    }
   ],
   "source": [
    "## 정규화된 서울시 자치구별 1인가구 비율\n",
    "plt.figure(figsize=(18, 1))\n",
    "sns.heatmap(pop_s1.set_index('자치구').loc[:,'S1_Z_score'].sort_values(ascending = False).to_frame().T.round(2), annot = True, linewidth = .5)\n",
    "plt.show()"
   ]
  },
  {
   "cell_type": "markdown",
   "id": "65825803",
   "metadata": {},
   "source": [
    "  "
   ]
  },
  {
   "cell_type": "markdown",
   "id": "23857ffd",
   "metadata": {
    "tags": []
   },
   "source": [
    "##### MZ세대 비율\n",
    "서울시 자치구별 1인가구 비율 대비 MZ세대 비율을 확인해봅시다. \n",
    "> MZ인구 비율 = (MZ인구 수 / 총인구 수) * 100"
   ]
  },
  {
   "cell_type": "code",
   "execution_count": 31,
   "id": "44026fe3",
   "metadata": {},
   "outputs": [
    {
     "data": {
      "image/png": "[encoded data removed]",
      "text/plain": [
       "<Figure size 1296x288 with 1 Axes>"
      ]
     },
     "metadata": {
      "needs_background": "light"
     },
     "output_type": "display_data"
    }
   ],
   "source": [
    "mean_y = pop_score['S2_MZ비율'].mean()\n",
    "\n",
    "plt.figure(figsize = (18, 4))\n",
    "plots = sns.barplot(data = pop_score, x = '자치구', y = 'S2_MZ비율', \n",
    "                    order = pop_score.groupby('자치구')['S1_1인가구비율'].mean().sort_values(ascending = False).index)\n",
    "\n",
    "for bar in plots.patches:\n",
    "    plots.annotate(format(bar.get_height(), '.2f'),\n",
    "                   (bar.get_x() + bar.get_width() / 2, \n",
    "                    bar.get_height()), ha='center', va='center',\n",
    "                   size=11, xytext=(0, 8),\n",
    "                   textcoords='offset points')\n",
    "\n",
    "plt.axhline(y = mean_y, color = 'r', linewidth = 1)\n",
    "plt.xlabel('서울시 자치구')\n",
    "plt.ylabel('MZ인구 비율')\n",
    "plt.title('서울시 자치구별 MZ세대 비율')\n",
    "plt.ylim(top = 100)\n",
    "plt.show()"
   ]
  },
  {
   "cell_type": "markdown",
   "id": "e867c1e2",
   "metadata": {
    "tags": []
   },
   "source": [
    "* 총인구수 대비 자치구별 MZ세대 비율을 살펴본 결과, **관악구**에서 가장 높은 비율을 보이고 있습니다.  \n",
    "* 관악구, 중구, 광진구, 종로구, 동대문구, 영등포구, 마포구, 용산구, 동작구, 서대문구, 강서구, 성동구, 성북구가 자치구 평균보다 높은 비율의 MZ세대를 보유하고 있습니다. \n",
    "* \"마포구\", \"성동구\", \"성북구\"는 1인 가구 비율에 비해 보다 높은 MZ세대 비율을 보유하고 있습니다. 즉, 젊은층 1인가구가 많이 거주하고 있다는 것을 확인할 수 있습니다.  "
   ]
  },
  {
   "cell_type": "code",
   "execution_count": 32,
   "id": "b4dced43",
   "metadata": {},
   "outputs": [
    {
     "data": {
      "text/html": [
       "<div>\n",
       "<style scoped>\n",
       "    .dataframe tbody tr th:only-of-type {\n",
       "        vertical-align: middle;\n",
       "    }\n",
       "\n",
       "    .dataframe tbody tr th {\n",
       "        vertical-align: top;\n",
       "    }\n",
       "\n",
       "    .dataframe thead th {\n",
       "        text-align: right;\n",
       "    }\n",
       "</style>\n",
       "<table border=\"1\" class=\"dataframe\">\n",
       "  <thead>\n",
       "    <tr style=\"text-align: right;\">\n",
       "      <th></th>\n",
       "      <th>강남구</th>\n",
       "      <th>강동구</th>\n",
       "      <th>강북구</th>\n",
       "      <th>강서구</th>\n",
       "      <th>관악구</th>\n",
       "      <th>광진구</th>\n",
       "      <th>구로구</th>\n",
       "      <th>금천구</th>\n",
       "      <th>노원구</th>\n",
       "      <th>도봉구</th>\n",
       "      <th>...</th>\n",
       "      <th>성동구</th>\n",
       "      <th>성북구</th>\n",
       "      <th>송파구</th>\n",
       "      <th>양천구</th>\n",
       "      <th>영등포구</th>\n",
       "      <th>용산구</th>\n",
       "      <th>은평구</th>\n",
       "      <th>종로구</th>\n",
       "      <th>중구</th>\n",
       "      <th>중랑구</th>\n",
       "    </tr>\n",
       "  </thead>\n",
       "  <tbody>\n",
       "    <tr>\n",
       "      <th>S1_1인가구비율</th>\n",
       "      <td>33.0</td>\n",
       "      <td>28.4</td>\n",
       "      <td>35.2</td>\n",
       "      <td>35.3</td>\n",
       "      <td>51.9</td>\n",
       "      <td>41.0</td>\n",
       "      <td>31.1</td>\n",
       "      <td>40.9</td>\n",
       "      <td>27.8</td>\n",
       "      <td>27.4</td>\n",
       "      <td>...</td>\n",
       "      <td>34.9</td>\n",
       "      <td>34.2</td>\n",
       "      <td>28.8</td>\n",
       "      <td>23.8</td>\n",
       "      <td>39.4</td>\n",
       "      <td>38.5</td>\n",
       "      <td>30.3</td>\n",
       "      <td>41.0</td>\n",
       "      <td>41.4</td>\n",
       "      <td>34.3</td>\n",
       "    </tr>\n",
       "    <tr>\n",
       "      <th>S2_MZ비율</th>\n",
       "      <td>34.5</td>\n",
       "      <td>33.1</td>\n",
       "      <td>31.0</td>\n",
       "      <td>36.0</td>\n",
       "      <td>43.6</td>\n",
       "      <td>39.6</td>\n",
       "      <td>32.5</td>\n",
       "      <td>34.0</td>\n",
       "      <td>32.5</td>\n",
       "      <td>30.5</td>\n",
       "      <td>...</td>\n",
       "      <td>37.1</td>\n",
       "      <td>36.1</td>\n",
       "      <td>35.1</td>\n",
       "      <td>31.4</td>\n",
       "      <td>36.1</td>\n",
       "      <td>36.7</td>\n",
       "      <td>32.7</td>\n",
       "      <td>37.3</td>\n",
       "      <td>37.4</td>\n",
       "      <td>33.1</td>\n",
       "    </tr>\n",
       "    <tr>\n",
       "      <th>S2_Z_score</th>\n",
       "      <td>-0.307561</td>\n",
       "      <td>-0.754227</td>\n",
       "      <td>-1.424225</td>\n",
       "      <td>0.171009</td>\n",
       "      <td>2.595765</td>\n",
       "      <td>1.319577</td>\n",
       "      <td>-0.945655</td>\n",
       "      <td>-0.467084</td>\n",
       "      <td>-0.945655</td>\n",
       "      <td>-1.583748</td>\n",
       "      <td>...</td>\n",
       "      <td>0.521961</td>\n",
       "      <td>0.202914</td>\n",
       "      <td>-0.116133</td>\n",
       "      <td>-1.296606</td>\n",
       "      <td>0.202914</td>\n",
       "      <td>0.394342</td>\n",
       "      <td>-0.881845</td>\n",
       "      <td>0.58577</td>\n",
       "      <td>0.617675</td>\n",
       "      <td>-0.754227</td>\n",
       "    </tr>\n",
       "  </tbody>\n",
       "</table>\n",
       "<p>3 rows × 25 columns</p>\n",
       "</div>"
      ],
      "text/plain": [
       "                 강남구       강동구       강북구       강서구       관악구       광진구  \\\n",
       "S1_1인가구비율       33.0      28.4      35.2      35.3      51.9      41.0   \n",
       "S2_MZ비율         34.5      33.1      31.0      36.0      43.6      39.6   \n",
       "S2_Z_score -0.307561 -0.754227 -1.424225  0.171009  2.595765  1.319577   \n",
       "\n",
       "                 구로구       금천구       노원구       도봉구  ...       성동구       성북구  \\\n",
       "S1_1인가구비율       31.1      40.9      27.8      27.4  ...      34.9      34.2   \n",
       "S2_MZ비율         32.5      34.0      32.5      30.5  ...      37.1      36.1   \n",
       "S2_Z_score -0.945655 -0.467084 -0.945655 -1.583748  ...  0.521961  0.202914   \n",
       "\n",
       "                 송파구       양천구      영등포구       용산구       은평구      종로구  \\\n",
       "S1_1인가구비율       28.8      23.8      39.4      38.5      30.3     41.0   \n",
       "S2_MZ비율         35.1      31.4      36.1      36.7      32.7     37.3   \n",
       "S2_Z_score -0.116133 -1.296606  0.202914  0.394342 -0.881845  0.58577   \n",
       "\n",
       "                  중구       중랑구  \n",
       "S1_1인가구비율       41.4      34.3  \n",
       "S2_MZ비율         37.4      33.1  \n",
       "S2_Z_score  0.617675 -0.754227  \n",
       "\n",
       "[3 rows x 25 columns]"
      ]
     },
     "execution_count": 32,
     "metadata": {},
     "output_type": "execute_result"
    }
   ],
   "source": [
    "## Z_score 정규화\n",
    "pop_s2 = pop_score.copy()\n",
    "S2_mean = pop_s2['S2_MZ비율'].mean()\n",
    "S2_std = pop_s2['S2_MZ비율'].std()\n",
    "pop_s2['S2_Z_score'] = pop_s2.apply(lambda x: (x['S2_MZ비율'] - S2_mean) / S2_std, axis = 1)\n",
    "pop_s2_T = pop_s2.transpose().rename(columns = pop_s2.transpose().iloc[0]).drop(pop_s2.transpose().index[0])\n",
    "pop_s2_T"
   ]
  },
  {
   "cell_type": "code",
   "execution_count": 33,
   "id": "f399722f",
   "metadata": {},
   "outputs": [
    {
     "data": {
      "image/png": "[encoded data removed]",
      "text/plain": [
       "<Figure size 1296x72 with 2 Axes>"
      ]
     },
     "metadata": {
      "needs_background": "light"
     },
     "output_type": "display_data"
    }
   ],
   "source": [
    "## 서울시 자치구별 MZ인구 비율\n",
    "plt.figure(figsize=(18, 1))\n",
    "sns.heatmap(pop_s2.set_index('자치구').iloc[:,-1].sort_values(ascending = False).to_frame().T.round(2), annot = True, linewidth = .5)\n",
    "plt.show()"
   ]
  },
  {
   "cell_type": "markdown",
   "id": "b300fb44",
   "metadata": {},
   "source": [
    " "
   ]
  }
 ],
 "metadata": {
  "kernelspec": {
   "display_name": "Python 3",
   "language": "python",
   "name": "python3"
  },
  "language_info": {
   "codemirror_mode": {
    "name": "ipython",
    "version": 3
   },
   "file_extension": ".py",
   "mimetype": "text/x-python",
   "name": "python",
   "nbconvert_exporter": "python",
   "pygments_lexer": "ipython3",
   "version": "3.8.0"
  }
 },
 "nbformat": 4,
 "nbformat_minor": 5
}
